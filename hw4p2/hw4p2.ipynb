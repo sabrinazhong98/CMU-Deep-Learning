{
  "nbformat": 4,
  "nbformat_minor": 0,
  "metadata": {
    "colab": {
      "name": "hw4p2.ipynb",
      "provenance": [],
      "collapsed_sections": [],
      "machine_shape": "hm"
    },
    "kernelspec": {
      "name": "python3",
      "display_name": "Python 3"
    },
    "language_info": {
      "name": "python"
    },
    "accelerator": "GPU"
  },
  "cells": [
    {
      "cell_type": "markdown",
      "metadata": {
        "id": "x6m2eIB_WjuK"
      },
      "source": [
        "# Set up\n"
      ]
    },
   
    {
      "cell_type": "code",
      "metadata": {
        "colab": {
          "base_uri": "https://localhost:8080/"
        },
        "id": "llKXugwfQx5P",
        "outputId": "e75cb0ed-a90e-4b06-d08f-3081f8bf9665"
      },
      "source": [
        "!pip install kaggle\n",
        "!mkdir .kaggle\n",
        "import json\n",
        "token = {\"username\":\"yuzhongfinally\",\"key\":\"da5ea7094c4adb8f29251a2e3b240da7\"}\n",
        "with open('/content/gdrive/MyDrive/.kaggle/kaggle.json', 'w') as file:\n",
        "    json.dump(token, file)\n",
        "!chmod 600 /content/gdrive/MyDrive/.kaggle/kaggle.json\n",
        "!cp /content/gdrive/MyDrive/.kaggle/kaggle.json /root/.kaggle/\n",
        "!kaggle config set -n path -v /content/gdrive/MyDrive/"
      ],
      "execution_count": null,
      "outputs": [
        {
          "output_type": "stream",
          "text": [
            "Requirement already satisfied: kaggle in /usr/local/lib/python3.7/dist-packages (1.5.12)\n",
            "Requirement already satisfied: requests in /usr/local/lib/python3.7/dist-packages (from kaggle) (2.23.0)\n",
            "Requirement already satisfied: tqdm in /usr/local/lib/python3.7/dist-packages (from kaggle) (4.41.1)\n",
            "Requirement already satisfied: certifi in /usr/local/lib/python3.7/dist-packages (from kaggle) (2020.12.5)\n",
            "Requirement already satisfied: python-slugify in /usr/local/lib/python3.7/dist-packages (from kaggle) (4.0.1)\n",
            "Requirement already satisfied: python-dateutil in /usr/local/lib/python3.7/dist-packages (from kaggle) (2.8.1)\n",
            "Requirement already satisfied: six>=1.10 in /usr/local/lib/python3.7/dist-packages (from kaggle) (1.15.0)\n",
            "Requirement already satisfied: urllib3 in /usr/local/lib/python3.7/dist-packages (from kaggle) (1.24.3)\n",
            "Requirement already satisfied: idna<3,>=2.5 in /usr/local/lib/python3.7/dist-packages (from requests->kaggle) (2.10)\n",
            "Requirement already satisfied: chardet<4,>=3.0.2 in /usr/local/lib/python3.7/dist-packages (from requests->kaggle) (3.0.4)\n",
            "Requirement already satisfied: text-unidecode>=1.3 in /usr/local/lib/python3.7/dist-packages (from python-slugify->kaggle) (1.3)\n",
            "mkdir: cannot create directory ‘.kaggle’: File exists\n",
            "- path is now set to: /content/gdrive/MyDrive/\n"
          ],
          "name": "stdout"
        }
      ]
    },
    {
      "cell_type": "code",
      "metadata": {
        "id": "uMxLI0saRY_G",
        "colab": {
          "base_uri": "https://localhost:8080/"
        },
        "outputId": "20a18baf-a872-4fed-e18b-f652beaea50c"
      },
      "source": [
        "!kaggle competitions download -c 11785-spring2021-hw4p2\n",
        "%cd competitions\n",
        "!ls"
      ],
      "execution_count": null,
      "outputs": [
        {
          "output_type": "stream",
          "text": [
            "Traceback (most recent call last):\n",
            "  File \"/usr/local/bin/kaggle\", line 5, in <module>\n",
            "    from kaggle.cli import main\n",
            "  File \"/usr/local/lib/python2.7/dist-packages/kaggle/__init__.py\", line 23, in <module>\n",
            "    api.authenticate()\n",
            "  File \"/usr/local/lib/python2.7/dist-packages/kaggle/api/kaggle_api_extended.py\", line 146, in authenticate\n",
            "    self.config_file, self.config_dir))\n",
            "IOError: Could not find kaggle.json. Make sure it's located in /root/.kaggle. Or use the environment method.\n",
            "/content/gdrive/MyDrive/competitions\n",
            "11785-spring2021-hw2p2s1-face-classification\n",
            "11785-spring2021-hw2p2s2-face-verification\n",
            "11785-spring2021-hw3p2\n",
            "11785-spring2021-hw4p2\n",
            "classification_sample_submission.csv\n",
            "classification_test.txt\n",
            "hw2p2.zip\n",
            "hw5\n",
            "verification_pairs_test.txt\n",
            "verification_sample_submission.csv\n"
          ],
          "name": "stdout"
        }
      ]
    },
    {
      "cell_type": "code",
      "metadata": {
        "colab": {
          "base_uri": "https://localhost:8080/"
        },
        "id": "ZQuSXKIpS6vv",
        "outputId": "ff4af735-320b-4f07-c80c-9441c90d3090"
      },
      "source": [
        "\n",
        "\"\"\"\n",
        "!unzip dev.npy.zip\n",
        "!unzip dev_labels.npy.zip\n",
        "!unzip sample.csv.zip\n",
        "\n",
        "!pwd\n",
        "\n",
        "!unzip train.npy.zip\n",
        "!unzip train_transcripts.npy.zip\n",
        "!unzip dev.npy.zip\n",
        "!unzip dev_transcripts.npy.zip\n",
        "\"\"\"\n"
      ],
      "execution_count": null,
      "outputs": [
        {
          "output_type": "stream",
          "text": [
            "/content/gdrive/MyDrive/competitions/11785-spring2021-hw4p2\n",
            "Archive:  train.npy.zip\n",
            "replace train.npy? [y]es, [n]o, [A]ll, [N]one, [r]ename: Archive:  train_transcripts.npy.zip\n",
            "replace train_transcripts.npy? [y]es, [n]o, [A]ll, [N]one, [r]ename: Archive:  dev.npy.zip\n",
            "replace dev.npy? [y]es, [n]o, [A]ll, [N]one, [r]ename: unzip:  cannot find or open dev_transcripts.npy.zip, dev_transcripts.npy.zip.zip or dev_transcripts.npy.zip.ZIP.\n"
          ],
          "name": "stdout"
        }
      ]
    },
    {
      "cell_type": "code",
      "metadata": {
        "colab": {
          "base_uri": "https://localhost:8080/"
        },
        "id": "esgd15775IjP",
        "outputId": "b6ed3e4f-141d-472e-9c60-8adaae922f30"
      },
      "source": [
        "%cd competitions/11785-spring2021-hw4p2\n",
        "!ls"
      ],
      "execution_count": 2,
      "outputs": [
        {
          "output_type": "stream",
          "text": [
            "/content/gdrive/MyDrive/competitions/11785-spring2021-hw4p2\n",
            "ctcdecode\t     LAS2\t     test.npy\n",
            "dev.npy\t\t     LAS3\t     test.npy.zip\n",
            "dev.npy.zip\t     LAS4\t     train.npy\n",
            "dev_transcripts.npy  LAS5\t     train.npy.zip\n",
            "hw4p2_simple\t     LASbest\t     train_transcripts.npy\n",
            "hw4p2_simple.zip     s21_sample.csv  train_transcripts.npy.zip\n",
            "LAS1\t\t     submission.csv\n"
          ],
          "name": "stdout"
        }
      ]
    },
    {
      "cell_type": "markdown",
      "metadata": {
        "id": "1heaFJLGPWVu"
      },
      "source": [
        "# preprocessing"
      ]
    },
    {
      "cell_type": "code",
      "metadata": {
        "colab": {
          "base_uri": "https://localhost:8080/"
        },
        "id": "ycXQDxJhSXK2",
        "outputId": "9731c747-95ae-42f0-ab77-3379fefd5363"
      },
      "source": [
        "import sys\n",
        "import numpy as np\n",
        "import torch\n",
        "import torch.nn as nn\n",
        "import torch.nn.functional as F\n",
        "import torch.nn.utils.rnn as rnn_utils\n",
        "import torch.optim as optim\n",
        "import torch.nn.utils as utils\n",
        "import seaborn as sns\n",
        "import matplotlib.pyplot as plt\n",
        "import time\n",
        "import random\n",
        "from torch.utils import data\n",
        "from torch.autograd import Variable\n",
        "\n",
        "\n",
        "cuda = torch.cuda.is_available()\n",
        "print(cuda, sys.version)\n",
        "device = torch.device(\"cuda\" if cuda else \"cpu\")\n",
        "np.random.seed(5111785)\n",
        "torch.manual_seed(5111785)\n",
        "\n",
        "LETTER_LIST = ['<sos>', 'a', 'b', 'c', 'd', 'e', 'f', 'g', 'h', 'i', 'j', 'k', 'l', 'm', 'n', 'o', 'p', 'q', \\\n",
        "         'r', 's', 't', 'u', 'v', 'w', 'x', 'y', 'z', '-', \"'\", '.', '_', '+', ' ', '<eos>']\n"
      ],
      "execution_count": 3,
      "outputs": [
        {
          "output_type": "stream",
          "text": [
            "True 3.7.10 (default, May  3 2021, 02:48:31) \n",
            "[GCC 7.5.0]\n"
          ],
          "name": "stdout"
        }
      ]
    },
    {
      "cell_type": "code",
      "metadata": {
        "id": "SaHaaI3_SV4C"
      },
      "source": [
        "def create_dictionaries(letter_list):\n",
        "    '''\n",
        "    Create dictionaries for letter2index and index2letter transformations\n",
        "    '''\n",
        "    letter2index = {}\n",
        "    index2letter = {}\n",
        "    \n",
        "    for num, val in enumerate(letter_list):\n",
        "      letter2index[val] = num\n",
        "      index2letter[num] = val\n",
        "\n",
        "    return letter2index, index2letter\n",
        "    \n",
        "def transform_letter_to_index(raw_transcripts, letter2index):\n",
        "    '''\n",
        "    Transforms text input to numerical input by converting each letter \n",
        "    to its corresponding index from letter_list\n",
        "\n",
        "    Args:\n",
        "        raw_transcripts: Raw text transcripts with the shape of (N, )\n",
        "    \n",
        "    Return:\n",
        "        transcripts: Converted index-format transcripts. This would be a list with a length of N\n",
        "    '''  \n",
        "    transcripts = []\n",
        "    for row in raw_transcripts: #which go through line\n",
        "\n",
        "      start = letter2index['<sos>']\n",
        "      sub = [start]\n",
        "\n",
        "      for word in row:\n",
        "       \n",
        "        #w = word\n",
        "        #w = str(word, 'utf-8')\n",
        "        w = word.decode(encoding='UTF-8')\n",
        "        for letter in w:\n",
        "          \n",
        "          idx = letter2index[letter]\n",
        "          sub.append(idx)\n",
        "        sub.append(letter2index[' '])\n",
        "\n",
        "      sub_len = len(sub) - 1\n",
        "      sub = sub[0:sub_len] \n",
        "      ending = letter2index['<eos>']\n",
        "      sub.append(ending)\n",
        "\n",
        "      transcripts.append(sub)\n",
        "\n",
        "    return transcripts\n",
        "    \n",
        "# Create the letter2index and index2letter dictionary\n",
        "letter2index, index2letter = create_dictionaries(LETTER_LIST)"
      ],
      "execution_count": 4,
      "outputs": []
    },
    {
      "cell_type": "code",
      "metadata": {
        "id": "Fs45JQE_g8kk"
      },
      "source": [
        "\n",
        "\n",
        "def translate(index, stopidx, startidx):\n",
        "  index_letter = []\n",
        "  for r in index:\n",
        "    curr = \"\"\n",
        "    for i in r:\n",
        "      if i in stopidx:\n",
        "        break\n",
        "      elif i not in stopidx and i not in startidx:\n",
        "        curr += index2letter[i]\n",
        "    index_letter.append(curr)\n",
        "  return index_letter"
      ],
      "execution_count": 5,
      "outputs": []
    },
    {
      "cell_type": "code",
      "metadata": {
        "id": "_HRMS12QPYIM"
      },
      "source": [
        "\n",
        "# Load the training, validation and testing data\n",
        "train_data = np.load('train.npy', allow_pickle=True, encoding='bytes')\n",
        "valid_data = np.load('dev.npy',   allow_pickle=True, encoding='bytes')\n",
        "#test_data = np.load('test.npy', allow_pickle=True, encoding='bytes')\n",
        "\n",
        "# Load the training, validation raw text transcripts\n",
        "raw_train_transcript = np.load('train_transcripts.npy', allow_pickle=True,encoding='bytes')\n",
        "raw_valid_transcript = np.load('dev_transcripts.npy',   allow_pickle=True,encoding='bytes')\n",
        "#train_data = np.load('hw4p2_simple/train.npy', allow_pickle=True, encoding='bytes')\n",
        "#raw_train_transcript = np.load('hw4p2_simple/train_transcripts.npy', allow_pickle=True,encoding='bytes')\n",
        "#valid_data = np.load('hw4p2_simple/dev.npy', allow_pickle=True, encoding='bytes')\n",
        "#raw_valid_transcript = np.load('hw4p2_simple/dev_transcripts.npy', allow_pickle=True, encoding='bytes')"
      ],
      "execution_count": 6,
      "outputs": []
    },
    {
      "cell_type": "code",
      "metadata": {
        "id": "B8VttqZAacqB"
      },
      "source": [
        "train_transcript = transform_letter_to_index(raw_train_transcript, letter2index)\n",
        "valid_transcript = transform_letter_to_index(raw_valid_transcript, letter2index)"
      ],
      "execution_count": 7,
      "outputs": []
    },
    {
      "cell_type": "code",
      "metadata": {
        "id": "WhSD0FOXm5Q6"
      },
      "source": [
        "class MyDataset(data.Dataset):\n",
        "    def __init__(self, X, Y):\n",
        "        self.X = X\n",
        "        self.Y = Y\n",
        "\n",
        "    def __len__(self):\n",
        "        return self.X.shape[0]\n",
        "\n",
        "    def __getitem__(self, index):\n",
        "        # For testing set, return only x\n",
        "        if self.Y == None:\n",
        "            return torch.tensor(self.X[index].astype(np.float32))\n",
        "        # For training and validation set, return x and y\n",
        "        else:\n",
        "          \n",
        "            return torch.tensor(self.X[index].astype(np.float32)), torch.tensor(self.Y[index])\n",
        "from tensorflow.keras.preprocessing.sequence import pad_sequences\n",
        "\n",
        "def collate_train_val(batch):\n",
        "  sorted_batch = sorted(batch, key=lambda x: x[0].shape[0], reverse=True)\n",
        "  sequences = [x[0] for x in sorted_batch]\n",
        "  labels = [x[1] for x in sorted_batch]\n",
        "  sequences_padded = torch.nn.utils.rnn.pad_sequence(sequences, batch_first=True)\n",
        "  labels_padded = torch.nn.utils.rnn.pad_sequence(labels, batch_first=True)\n",
        "  seq_lengths = torch.LongTensor([len(x) for x in sequences])\n",
        "  label_lengths = torch.LongTensor([len(x) for x in labels])\n",
        "\n",
        "  return sequences_padded, labels_padded, seq_lengths, label_lengths\n",
        "\n"
      ],
      "execution_count": 8,
      "outputs": []
    },
    {
      "cell_type": "code",
      "metadata": {
        "collapsed": true,
        "id": "OJKdna5VnIJM"
      },
      "source": [
        "# Create datasets\n",
        "train_dataset = MyDataset(train_data, train_transcript)\n",
        "train_loader_args = dict(shuffle = True, batch_size = 64, num_workers = 0, collate_fn = collate_train_val, pin_memory = True) \n",
        "\n",
        "valid_dataset = MyDataset(valid_data, valid_transcript)\n",
        "valid_loader_args = dict(shuffle = False, batch_size = 64, num_workers = 0, collate_fn = collate_train_val, pin_memory = True) \n",
        "#test_dataset = \n",
        "\n",
        "# Create data loaders\n",
        "train_loader = torch.utils.data.DataLoader(train_dataset,**train_loader_args)\n",
        "valid_loader = torch.utils.data.DataLoader(valid_dataset,**valid_loader_args)"
      ],
      "execution_count": 9,
      "outputs": []
    },
    {
      "cell_type": "markdown",
      "metadata": {
        "id": "DGpu2_wodlBj"
      },
      "source": [
        "# model"
      ]
    },
    {
      "cell_type": "code",
      "metadata": {
        "id": "08_4uT8ovolZ"
      },
      "source": [
        "\n",
        "class LockedDropout(nn.Module):\n",
        "    def __init__(self):\n",
        "        super().__init__()\n",
        "\n",
        "    def forward(self, x, dropout=0.5):\n",
        "        m = x.data.new(1, x.size(1), x.size(2)).bernoulli_(1 - dropout)\n",
        "        mask = Variable(m, requires_grad=False) / (1 - dropout)\n",
        "        mask = mask.expand_as(x)\n",
        "        return mask * x"
      ],
      "execution_count": 10,
      "outputs": []
    },
    {
      "cell_type": "code",
      "metadata": {
        "id": "BQsvZwPCdlx_"
      },
      "source": [
        "\n",
        "class pBLSTM(nn.Module):\n",
        "    '''\n",
        "    Pyramidal BiLSTM\n",
        "    Read paper and understand the concepts and then write your implementation here.\n",
        "    '''\n",
        "    def __init__(self, input_dim, hidden_dim):\n",
        "      super(pBLSTM, self).__init__()\n",
        "      self.blstm = nn.LSTM(input_size=input_dim, hidden_size=hidden_dim, num_layers=1, bidirectional=True, batch_first=True, dropout = 0)\n",
        "      self.drop = LockedDropout()\n",
        "\n",
        "    def forward(self, x):\n",
        " \n",
        "      x, length_long = torch.nn.utils.rnn.pad_packed_sequence(x, batch_first=True)\n",
        "      batch = len(x)\n",
        "      length, insize = x[0].shape\n",
        "\n",
        "      x = x[:, :(length//2)*2, :]\n",
        "      x = self.drop(x, dropout = 0.5)\n",
        "      length_long = length_long//2\n",
        "      \n",
        "      \n",
        "      x = x.reshape( batch, int(length/2),insize*2)   \n",
        "      x = nn.utils.rnn.pack_padded_sequence(x, length_long, enforce_sorted=False, batch_first=True)\n",
        "      \n",
        "      output, hidden = self.blstm(x)\n",
        "      #output = self.drop(output)\n",
        "   \n",
        "      return output"
      ],
      "execution_count": 11,
      "outputs": []
    },
    {
      "cell_type": "code",
      "metadata": {
        "id": "S9Yms-ky1hRY"
      },
      "source": [
        "\n",
        "class Encoder(nn.Module):\n",
        "    '''\n",
        "    Encoder takes the utterances as inputs and returns the key, value and unpacked_x_len.\n",
        "    Key and value are linear projections of the output from pBLSTM network for the laster.\n",
        "    '''\n",
        "    def __init__(self, input_dim, encoder_hidden_dim, key_value_size=128):\n",
        "\n",
        "      super(Encoder, self).__init__()\n",
        "      # The first LSTM at the very bottom\n",
        "      self.lstm = nn.LSTM(input_size=input_dim, hidden_size=encoder_hidden_dim, \n",
        "                          num_layers=3, bidirectional=True, batch_first=True)\n",
        "      self.drop = LockedDropout()\n",
        "\n",
        "\n",
        "      # TODO: Define the blocks of pBLSTMs\n",
        "      # ...\n",
        "      self.plstms = torch.nn.Sequential(\n",
        "          pBLSTM(encoder_hidden_dim*4, encoder_hidden_dim),\n",
        "          \n",
        "          pBLSTM(encoder_hidden_dim*4, encoder_hidden_dim),\n",
        "\n",
        "          pBLSTM(encoder_hidden_dim*4, encoder_hidden_dim),\n",
        "         \n",
        "      )\n",
        "      # The linear transformation for producing Key and Value for attention\n",
        "      # Since you are using bidirectional LSTM, be careful about the size of hidden dimension\n",
        "      self.key_network = nn.Linear(encoder_hidden_dim*2, key_value_size)\n",
        "      self.value_network = nn.Linear(encoder_hidden_dim*2, key_value_size)\n",
        "\n",
        "    def forward(self, x, x_len):\n",
        "\n",
        "      # Pass through the first LSTM at the very bottom\n",
        "    \n",
        "      packed_sequence = rnn_utils.pack_padded_sequence(x, x_len,  batch_first=True, enforce_sorted=False) \n",
        "\n",
        "      packed_out,_= self.lstm(packed_sequence)\n",
        "      \n",
        "      packed_out = self.plstms(packed_out)\n",
        "   \n",
        "      # Unpack the sequence and get the Key and Value for attention\n",
        "      unpacked, unpacked_x_len = nn.utils.rnn.pad_packed_sequence(packed_out, batch_first=True)\n",
        "\n",
        "      #unpacked = self.drop(unpacked)\n",
        "\n",
        "      key = self.key_network(unpacked)\n",
        "      value = self.value_network(unpacked)\n",
        "\n",
        "      #print('key',key.shape)\n",
        "      return key, value, unpacked_x_len"
      ],
      "execution_count": 12,
      "outputs": []
    },
    {
      "cell_type": "code",
      "metadata": {
        "id": "bKZ23acLYaPu"
      },
      "source": [
        "def plot_attention(attention):\n",
        "    attention = attention.cpu()\n",
        "    attention = attention.detach().numpy()\n",
        "    plt.clf()\n",
        "    sns.heatmap(attention, cmap='GnBu')\n",
        "    plt.show()\n",
        "\n",
        "class Attention(nn.Module):\n",
        "    '''\n",
        "    Attention is calculated using key, value and query from Encoder and decoder.\n",
        "    Below are the set of operations you need to perform for computing attention:\n",
        "        energy = bmm(key, query)\n",
        "        attention = softmax(energy)\n",
        "        context = bmm(attention, value)\n",
        "    '''\n",
        "    def __init__(self):\n",
        "        super(Attention, self).__init__()\n",
        "    def forward(self, query, key, value,  lengths):\n",
        "        \n",
        "        energy = torch.bmm(key, query.unsqueeze(2)).squeeze(2)\n",
        "\n",
        "        mask = torch.arange(key.size(1)).unsqueeze(0) >= lengths.unsqueeze(1)\n",
        "        mask = mask.to(device)\n",
        "\n",
        "        energy.masked_fill_(mask, -1e9)\n",
        "\n",
        "        attention = nn.functional.softmax(energy, dim = 1)\n",
        "        context = torch.bmm(attention.unsqueeze(1), value).squeeze(1)\n",
        "\n",
        "        return context, attention\n"
      ],
      "execution_count": 13,
      "outputs": []
    },
    {
      "cell_type": "code",
      "metadata": {
        "id": "xQPtD73-VBzu"
      },
      "source": [
        "import torch.nn.functional as F\n",
        "class Decoder(nn.Module):\n",
        "    '''\n",
        "    As mentioned in a previous recitation, each forward call of decoder deals with just one time step.\n",
        "    Thus we use LSTMCell instead of LSTM here.\n",
        "    The output from the seond LSTMCell can be used as query for calculating attention.\n",
        "    In place of value that we get from the attention, this can be replace by context we get from the attention.\n",
        "    Methods like Gumble noise and teacher forcing can also be incorporated for improving the performance.\n",
        "    '''\n",
        "    def __init__(self, vocab_size, decoder_hidden_dim, embed_dim,key_value_size=128):\n",
        "        super(Decoder, self).__init__()\n",
        "        self.embedding = nn.Embedding(vocab_size, embed_dim, padding_idx=letter2index['<eos>'])\n",
        "       \n",
        "        self.lstm1 = nn.LSTMCell(input_size=embed_dim + key_value_size, hidden_size=decoder_hidden_dim)\n",
        "        self.lstm2 = nn.LSTMCell(input_size=decoder_hidden_dim, hidden_size=key_value_size)\n",
        "        self.fc1 = nn.Linear(embed_dim, vocab_size)\n",
        "        self.fc2 = nn.Linear(vocab_size, embed_dim)\n",
        "        self.attention = Attention()     \n",
        "        self.vocab_size = vocab_size\n",
        "        self.character_prob = nn.Linear(2 * key_value_size, vocab_size)\n",
        "        self.key_value_size = key_value_size\n",
        "    \n",
        "\n",
        "        self.fc1.weight = self.embedding.weight\n",
        "        #self.character_prob.weight = self.embedding.weight\n",
        "\n",
        "    def forward(self, key, value, encoder_len, y=None, plot = False,mode='train', teacher_force_rate = None):\n",
        "        '''\n",
        "        Args:\n",
        "            key :(B, T, key_value_size) - Output of the Encoder Key projection layer\n",
        "            value: (B, T, key_value_size) - Output of the Encoder Value projection layer\n",
        "            y: (T, text_len) - Batch input of text with text_length\n",
        "            mode: Train or eval mode\n",
        "        Return:\n",
        "            predictions: the character perdiction probability \n",
        "        '''\n",
        "\n",
        "        B, key_seq_max_len, key_value_size = key.shape\n",
        "\n",
        "\n",
        "        if mode == 'train':\n",
        "            max_len =  y.shape[1]\n",
        "            char_embeddings = self.embedding(y)\n",
        "        else:\n",
        "            max_len = 600\n",
        "\n",
        "        predictions = []\n",
        "        prediction = torch.zeros(B, 1).to(device)\n",
        "        hidden_states = [None, None]\n",
        "        attplot = [] \n",
        "        \n",
        "        # TODO: Initialize the context. Be careful here\n",
        "        context = value[:,0,:]\n",
        "\n",
        "        for i in range(max_len):\n",
        "            if mode == 'train':\n",
        "              # TODO: Implement (1) Teacher Forcing and (2) Gumble Noise techniques here\n",
        "              # ...\n",
        "              \n",
        "              if y is None:\n",
        "                teach_force_rate = 0\n",
        "      \n",
        "              teacher_force = True if np.random.random_sample() < teacher_force_rate else False\n",
        "\n",
        "              if teacher_force == True and i == 0:\n",
        "\n",
        "                zeros = torch.zeros(B).long()\n",
        "                start = zeros.fill_(letter2index['<sos>']).to(device)\n",
        "                char_embed = self.embedding(start)\n",
        "                \n",
        "              elif teacher_force == True and i > 0 :\n",
        "\n",
        "                char_embed = char_embeddings[:, i-1,:]\n",
        "\n",
        "              elif teacher_force == False and i == 0:\n",
        "\n",
        "                char_embed = self.embedding(prediction.argmax(dim = -1))\n",
        "                char_embed = torch.nn.functional.gumbel_softmax(char_embed, tau=1, hard=False)\n",
        "      \n",
        "\n",
        "              elif teacher_force == False and i != 0:\n",
        "                \n",
        "                char_embed = torch.nn.functional.gumbel_softmax(prediction).mm(self.embedding.weight)\n",
        "            \n",
        "            elif mode == 'eval':\n",
        "              \n",
        "              if i == 0:\n",
        "                zeros = torch.zeros(B).long()\n",
        "                start = zeros.fill_(letter2index['<sos>']).to(device)\n",
        "                char_embed = self.embedding(start)\n",
        "              else:\n",
        "                char_embed = self.embedding(prediction.argmax(dim = -1))\n",
        "      \n",
        "            y_context = torch.cat([char_embed, context], dim=1)\n",
        "            hidden_states[0] = self.lstm1(y_context, hidden_states[0])\n",
        "\n",
        "            lstm1_hidden = hidden_states[0][0]\n",
        "            hidden_states[1] = self.lstm2(lstm1_hidden, hidden_states[1])\n",
        "            output = hidden_states[1][0]\n",
        "            output = self.fc1(output)\n",
        "            output = self.fc2(output)\n",
        "            #print('out2', output.shape)\n",
        "\n",
        "            # TODO: Compute attention from the output of the second LSTM Cell\n",
        "            # ...  attplot.append(attention[0].detach().cpu())\n",
        "\n",
        "            context, attention = self.attention(output, key, value,  encoder_len)\n",
        "\n",
        "            attplot.append(attention.squeeze().detach().cpu())\n",
        "             \n",
        "            output_context = torch.cat([output, context], dim=1)\n",
        "            prediction = self.character_prob(output_context)\n",
        "            predictions.append(prediction.unsqueeze(1))\n",
        "\n",
        "            \n",
        "        #attention plot\n",
        "        if plot == True: \n",
        "          atplot = [i[1] for i in attplot]\n",
        "          plot_attention(torch.stack(atplot))\n",
        "\n",
        "        return torch.cat(predictions, dim=1)"
      ],
      "execution_count": 27,
      "outputs": []
    },
    {
      "cell_type": "code",
      "metadata": {
        "id": "Nl-i0vDlVHNF"
      },
      "source": [
        "\n",
        "class Seq2Seq(nn.Module):\n",
        "    '''\n",
        "    We train an end-to-end sequence to sequence model comprising of Encoder and Decoder.\n",
        "    This is simply a wrapper \"model\" for your encoder and decoder.\n",
        "    '''\n",
        "    def __init__(self, input_dim, vocab_size, encoder_hidden_dim, decoder_hidden_dim, embed_dim, key_value_size=128):\n",
        "        super(Seq2Seq,self).__init__()\n",
        "        self.encoder = Encoder(input_dim, encoder_hidden_dim, key_value_size=key_value_size)\n",
        "        self.decoder = Decoder(vocab_size, decoder_hidden_dim, embed_dim, key_value_size=key_value_size)\n",
        "\n",
        "    def forward(self, x, x_len,plotdecision,tf,y=None, mode='train', pretrain = True):\n",
        "        \"\"\"\n",
        "        if pretrain == True:\n",
        "          for params in self.encoder.parameters():\n",
        "            params.requires_grad = False\n",
        "        \"\"\"\n",
        "        key, value, encoder_len = self.encoder(x, x_len)\n",
        "        if pretrain == True:\n",
        "          for params in self.encoder.parameters():\n",
        "            params.requires_grad = False\n",
        "        else:\n",
        "          for params in self.encoder.parameters():\n",
        "            params.requires_grad = True\n",
        "\n",
        "        predictions = self.decoder(key, value, encoder_len, y=y, plot = plotdecision,mode=mode, teacher_force_rate = tf)\n",
        "\n",
        "        return predictions"
      ],
      "execution_count": 28,
      "outputs": []
    },
    {
      "cell_type": "code",
      "metadata": {
        "id": "eFSfLNNFUx-V",
        "colab": {
          "base_uri": "https://localhost:8080/"
        },
        "outputId": "111ea7ca-6457-4134-ffb3-4961d50ed1ab"
      },
      "source": [
        "\n",
        "!pip install Levenshtein\n",
        "import Levenshtein as lev\n",
        "\n",
        "def levdistance(preds, target):\n",
        "  distance = []\n",
        "  for s in range(len(preds)):\n",
        "    distance.append(lev.distance(preds[s],target[s]))\n",
        "  return distance\n"
      ],
      "execution_count": 29,
      "outputs": [
        {
          "output_type": "stream",
          "text": [
            "Requirement already satisfied: Levenshtein in /usr/local/lib/python3.7/dist-packages (0.12.0)\n",
            "Requirement already satisfied: setuptools in /usr/local/lib/python3.7/dist-packages (from Levenshtein) (56.1.0)\n"
          ],
          "name": "stdout"
        }
      ]
    },
    {
      "cell_type": "markdown",
      "metadata": {
        "id": "0aBRdcp3vL16"
      },
      "source": [
        "#training"
      ]
    },
    {
      "cell_type": "code",
      "metadata": {
        "id": "rsARYVFVVHxy"
      },
      "source": [
        "def train(model, train_loader, criterion, optimizer, mode, epoch, tf):\n",
        "    model.train()\n",
        "    running_loss = 0\n",
        "    \n",
        "    counts = 0\n",
        "    for batchnum, (x, y , seq_lengths, label_lengths) in enumerate(train_loader):\n",
        "      \n",
        "        \n",
        "        optimizer.zero_grad()\n",
        "        # 1) Set the inputs to the device.\n",
        "\n",
        "        x, y = x.to(device), y.to(device)\n",
        "        label_lengths = label_lengths.to(device)\n",
        "      #  print('finish to device')\n",
        "\n",
        "        # 2) Pass your inputs, and length of speech into the model.\n",
        "        plotdecision = True if batchnum == 10 else False\n",
        "\n",
        "        if epoch <10:\n",
        "          pretrain =  True\n",
        "        else: \n",
        "          pretrain = False\n",
        "        preds = model(x, seq_lengths, plotdecision, tf,y,mode = 'train', pretrain = pretrain)\n",
        "        \n",
        "        # key, value, encoder_len, y=None, plot = False,mode='train', teacher_force_rate = 0.9, Gumbel = True\n",
        "\n",
        "        # 3) Generate a mask based on the lengths of the text\n",
        "        #    Ensure the mask is on the device and is the correct shape.   \n",
        "        maxlen = torch.max(label_lengths).to(device)\n",
        "    \n",
        "        mask = torch.arange(maxlen)[None,:].to(device) < label_lengths[:, None].to(device)\n",
        "    \n",
        "        # 4. Calculate the loss and mask it to remove the padding part\n",
        "        predssize = preds.size(2)\n",
        "        loss = criterion(preds.view(-1, predssize), y.view(-1))\n",
        "        \n",
        "        maskloss = torch.sum(loss * mask.view(-1)) / torch.sum(mask)\n",
        "        \n",
        "\n",
        "        # 5. Backward on the masked loss\n",
        "        maskloss.backward()\n",
        "     \n",
        "    \n",
        "        # 6. Optional: Use torch.nn.utils.clip_grad_norm(model.parameters(), 2) to clip the gradie\n",
        "        torch.nn.utils.clip_grad_norm(model.parameters(),2)\n",
        "\n",
        "        # 7. Take a step with your optimizer\n",
        "        optimizer.step()\n",
        "        \n",
        "\n",
        "        # 8. print the statistic (loss, edit distance and etc.) for analysis\n",
        "        running_loss += maskloss.item()\n",
        "        counts += 1\n",
        "        del x\n",
        "        del y\n",
        "        del seq_lengths\n",
        "        del label_lengths\n",
        "        torch.cuda.empty_cache()\n",
        "\n",
        "    print('epoch:', epoch, 'train loss: ',running_loss)\n",
        "\n",
        "\n",
        "    \n",
        "def val(model, valid_loader, epoch):\n",
        "    model.eval()\n",
        "    with torch.no_grad():\n",
        "      running_loss = 0\n",
        "      dist = []\n",
        "      for x, y , seq_lengths, label_lengths in valid_loader:\n",
        "        x, y = x.to(device), y.to(device)\n",
        "        label_lengths = label_lengths.to(device)\n",
        "        \n",
        "        plotdecision = False\n",
        "        tf = 0\n",
        "        preds = model(x, seq_lengths, plotdecision, tf,y=None, mode = 'eval',pretrain = False)\n",
        "    \n",
        "        predtext = translate(preds.argmax(-1).detach().cpu().numpy(), [letter2index['<eos>']], [letter2index['<sos>']])\n",
        "        \n",
        "        ytext = translate(y.detach().cpu().numpy(),  [letter2index['<eos>']], [letter2index['<sos>']])\n",
        "        dist.extend(levdistance(predtext, ytext))\n",
        "        del x\n",
        "        del y\n",
        "        del seq_lengths\n",
        "        del label_lengths\n",
        "        torch.cuda.empty_cache()\n",
        "      print('dist',np.mean(dist))\n",
        "      if np.mean(dist) < 21:\n",
        "        torch.save(model,'LAS5')\n",
        "        print('model saving')\n",
        "      for param_group in optimizer.param_groups:\n",
        "      \n",
        "        print(param_group['lr'])\n",
        "        if param_group['lr'] > 0.0001 and epoch > 15 and epoch < 35:\n",
        "          scheduler.step(np.mean(dist))\n",
        "      \n",
        "      \n",
        "        \n"
      ],
      "execution_count": 30,
      "outputs": []
    },
    {
      "cell_type": "code",
      "metadata": {
        "colab": {
          "base_uri": "https://localhost:8080/",
          "height": 393
        },
        "id": "JSwWgYO43Do8",
        "outputId": "cdefdeb7-593b-40e1-cb67-c84c87586463"
      },
      "source": [
        "\n",
        "model = Seq2Seq(40, len(LETTER_LIST), 128,256, 128)\n",
        "#input_dim, vocab_size, encoder_hidden_dim, decoder_hidden_dim, embed_dim, key_value_size=128, pretrain = True\n",
        "model = model.to(device)\n",
        "n_epochs = 50\n",
        "weightDecay = 5e-6\n",
        "optimizer = optim.Adam(model.parameters(), lr=0.003,  weight_decay = weightDecay)\n",
        "\n",
        "scheduler =torch.optim.lr_scheduler.ReduceLROnPlateau(optimizer, 'min', 0.75,1)\n",
        "criterion = nn.CrossEntropyLoss(reduction = 'none')\n",
        "\n",
        "mode = 'train'\n",
        "tf = {'pretrain':0.95, 'regular':0.95}\n",
        "for n in range(n_epochs):\n",
        "  #torch.optim.lr_scheduler.StepLR(self.optimizer, step_size=1, gamma=0.8)\n",
        "  if n< 10 :\n",
        "    tf['pretrain'] -= 0.01\n",
        "    tf_current = tf['pretrain']\n",
        "  else:\n",
        "    tf['regular'] -=0.006\n",
        "    tf_current = tf['regular']\n",
        "  train(model, train_loader, criterion, optimizer, mode, n, tf_current)\n",
        "\n",
        "  for param_group in optimizer.param_groups:\n",
        "    print(param_group['lr'])\n",
        "  val(model, valid_loader, n)\n",
        "  \n"
      ],
      "execution_count": 31,
      "outputs": [
        {
          "output_type": "stream",
          "text": [
            "/usr/local/lib/python3.7/dist-packages/ipykernel_launcher.py:45: UserWarning: torch.nn.utils.clip_grad_norm is now deprecated in favor of torch.nn.utils.clip_grad_norm_.\n"
          ],
          "name": "stderr"
        },
        {
          "output_type": "error",
          "ename": "KeyboardInterrupt",
          "evalue": "ignored",
          "traceback": [
            "\u001b[0;31m---------------------------------------------------------------------------\u001b[0m",
            "\u001b[0;31mKeyboardInterrupt\u001b[0m                         Traceback (most recent call last)",
            "\u001b[0;32m<ipython-input-31-ce61fa56dc9e>\u001b[0m in \u001b[0;36m<module>\u001b[0;34m()\u001b[0m\n\u001b[1;32m     20\u001b[0m     \u001b[0mtf\u001b[0m\u001b[0;34m[\u001b[0m\u001b[0;34m'regular'\u001b[0m\u001b[0;34m]\u001b[0m \u001b[0;34m-=\u001b[0m\u001b[0;36m0.006\u001b[0m\u001b[0;34m\u001b[0m\u001b[0;34m\u001b[0m\u001b[0m\n\u001b[1;32m     21\u001b[0m     \u001b[0mtf_current\u001b[0m \u001b[0;34m=\u001b[0m \u001b[0mtf\u001b[0m\u001b[0;34m[\u001b[0m\u001b[0;34m'regular'\u001b[0m\u001b[0;34m]\u001b[0m\u001b[0;34m\u001b[0m\u001b[0;34m\u001b[0m\u001b[0m\n\u001b[0;32m---> 22\u001b[0;31m   \u001b[0mtrain\u001b[0m\u001b[0;34m(\u001b[0m\u001b[0mmodel\u001b[0m\u001b[0;34m,\u001b[0m \u001b[0mtrain_loader\u001b[0m\u001b[0;34m,\u001b[0m \u001b[0mcriterion\u001b[0m\u001b[0;34m,\u001b[0m \u001b[0moptimizer\u001b[0m\u001b[0;34m,\u001b[0m \u001b[0mmode\u001b[0m\u001b[0;34m,\u001b[0m \u001b[0mn\u001b[0m\u001b[0;34m,\u001b[0m \u001b[0mtf_current\u001b[0m\u001b[0;34m)\u001b[0m\u001b[0;34m\u001b[0m\u001b[0;34m\u001b[0m\u001b[0m\n\u001b[0m\u001b[1;32m     23\u001b[0m \u001b[0;34m\u001b[0m\u001b[0m\n\u001b[1;32m     24\u001b[0m   \u001b[0;32mfor\u001b[0m \u001b[0mparam_group\u001b[0m \u001b[0;32min\u001b[0m \u001b[0moptimizer\u001b[0m\u001b[0;34m.\u001b[0m\u001b[0mparam_groups\u001b[0m\u001b[0;34m:\u001b[0m\u001b[0;34m\u001b[0m\u001b[0;34m\u001b[0m\u001b[0m\n",
            "\u001b[0;32m<ipython-input-30-36dd27ed6297>\u001b[0m in \u001b[0;36mtrain\u001b[0;34m(model, train_loader, criterion, optimizer, mode, epoch, tf)\u001b[0m\n\u001b[1;32m     56\u001b[0m         \u001b[0;32mdel\u001b[0m \u001b[0mseq_lengths\u001b[0m\u001b[0;34m\u001b[0m\u001b[0;34m\u001b[0m\u001b[0m\n\u001b[1;32m     57\u001b[0m         \u001b[0;32mdel\u001b[0m \u001b[0mlabel_lengths\u001b[0m\u001b[0;34m\u001b[0m\u001b[0;34m\u001b[0m\u001b[0m\n\u001b[0;32m---> 58\u001b[0;31m         \u001b[0mtorch\u001b[0m\u001b[0;34m.\u001b[0m\u001b[0mcuda\u001b[0m\u001b[0;34m.\u001b[0m\u001b[0mempty_cache\u001b[0m\u001b[0;34m(\u001b[0m\u001b[0;34m)\u001b[0m\u001b[0;34m\u001b[0m\u001b[0;34m\u001b[0m\u001b[0m\n\u001b[0m\u001b[1;32m     59\u001b[0m \u001b[0;34m\u001b[0m\u001b[0m\n\u001b[1;32m     60\u001b[0m     \u001b[0mprint\u001b[0m\u001b[0;34m(\u001b[0m\u001b[0;34m'epoch:'\u001b[0m\u001b[0;34m,\u001b[0m \u001b[0mepoch\u001b[0m\u001b[0;34m,\u001b[0m \u001b[0;34m'train loss: '\u001b[0m\u001b[0;34m,\u001b[0m\u001b[0mrunning_loss\u001b[0m\u001b[0;34m)\u001b[0m\u001b[0;34m\u001b[0m\u001b[0;34m\u001b[0m\u001b[0m\n",
            "\u001b[0;32m/usr/local/lib/python3.7/dist-packages/torch/cuda/memory.py\u001b[0m in \u001b[0;36mempty_cache\u001b[0;34m()\u001b[0m\n\u001b[1;32m    112\u001b[0m     \"\"\"\n\u001b[1;32m    113\u001b[0m     \u001b[0;32mif\u001b[0m \u001b[0mis_initialized\u001b[0m\u001b[0;34m(\u001b[0m\u001b[0;34m)\u001b[0m\u001b[0;34m:\u001b[0m\u001b[0;34m\u001b[0m\u001b[0;34m\u001b[0m\u001b[0m\n\u001b[0;32m--> 114\u001b[0;31m         \u001b[0mtorch\u001b[0m\u001b[0;34m.\u001b[0m\u001b[0m_C\u001b[0m\u001b[0;34m.\u001b[0m\u001b[0m_cuda_emptyCache\u001b[0m\u001b[0;34m(\u001b[0m\u001b[0;34m)\u001b[0m\u001b[0;34m\u001b[0m\u001b[0;34m\u001b[0m\u001b[0m\n\u001b[0m\u001b[1;32m    115\u001b[0m \u001b[0;34m\u001b[0m\u001b[0m\n\u001b[1;32m    116\u001b[0m \u001b[0;34m\u001b[0m\u001b[0m\n",
            "\u001b[0;31mKeyboardInterrupt\u001b[0m: "
          ]
        }
      ]
    },
    {
      "cell_type": "code",
      "metadata": {
        "colab": {
          "base_uri": "https://localhost:8080/",
          "height": 1000
        },
        "id": "Cv_7vX2HomqU",
        "outputId": "05546f46-1fbb-4cce-fe0f-bf376339c27d"
      },
      "source": [
        "#model = torch.load('LASbest')\n",
        "mode = 'train'\n",
        "optimizer = optim.Adam(model.parameters(), lr=0.001, weight_decay = 5e-6)\n",
        "\n",
        "scheduler =torch.optim.lr_scheduler.ReduceLROnPlateau(optimizer, 'min', 0.75,1)\n",
        "criterion = nn.CrossEntropyLoss(reduction = 'none')\n",
        "\n",
        "\n",
        "tf = {'pretrain':0.95, 'regular':0.80}\n",
        "\n",
        "for n in range(30,40):\n",
        "  #torch.optim.lr_scheduler.StepLR(self.optimizer, step_size=1, gamma=0.8)\n",
        "  if n< 10 :\n",
        "    tf['pretrain'] -= 0.02\n",
        "    tf_current = tf['pretrain']\n",
        "  else:\n",
        "    tf['regular'] -=0.01\n",
        "    tf_current = tf['regular']\n",
        "    print(tf_current)\n",
        "  train(model, train_loader, criterion, optimizer, mode, n, tf_current)\n",
        "\n",
        "  for param_group in optimizer.param_groups:\n",
        "    print(param_group['lr'])\n",
        "  val(model, valid_loader, n)"
      ],
      "execution_count": null,
      "outputs": [
        {
          "output_type": "stream",
          "text": [
            "0.79\n"
          ],
          "name": "stdout"
        },
        {
          "output_type": "stream",
          "text": [
            "/usr/local/lib/python3.7/dist-packages/ipykernel_launcher.py:45: UserWarning: torch.nn.utils.clip_grad_norm is now deprecated in favor of torch.nn.utils.clip_grad_norm_.\n"
          ],
          "name": "stderr"
        },
        {
          "output_type": "display_data",
          "data": {
            "image/png": "[encoded data removed]",
            "text/plain": [
              "<Figure size 432x288 with 2 Axes>"
            ]
          },
          "metadata": {
            "tags": [],
            "needs_background": "light"
          }
        },
        {
          "output_type": "stream",
          "text": [
            "epoch: 30 train loss:  201.95280343294144\n",
            "0.001\n",
            "dist 36.98668146503885\n",
            "0.001\n",
            "0.78\n"
          ],
          "name": "stdout"
        },
        {
          "output_type": "display_data",
          "data": {
            "image/png": "[encoded data removed]",
            "text/plain": [
              "<Figure size 432x288 with 2 Axes>"
            ]
          },
          "metadata": {
            "tags": [],
            "needs_background": "light"
          }
        },
        {
          "output_type": "stream",
          "text": [
            "epoch: 31 train loss:  195.33969524502754\n",
            "0.001\n",
            "dist 36.166481687014425\n",
            "0.001\n",
            "0.77\n"
          ],
          "name": "stdout"
        },
        {
          "output_type": "display_data",
          "data": {
            "image/png": "[encoded data removed]",
            "text/plain": [
              "<Figure size 432x288 with 2 Axes>"
            ]
          },
          "metadata": {
            "tags": [],
            "needs_background": "light"
          }
        },
        {
          "output_type": "stream",
          "text": [
            "epoch: 32 train loss:  197.0557226240635\n",
            "0.001\n",
            "dist 35.74657787643359\n",
            "0.001\n",
            "0.76\n"
          ],
          "name": "stdout"
        },
        {
          "output_type": "display_data",
          "data": {
            "image/png": "[encoded data removed]",
            "text/plain": [
              "<Figure size 432x288 with 2 Axes>"
            ]
          },
          "metadata": {
            "tags": [],
            "needs_background": "light"
          }
        },
        {
          "output_type": "stream",
          "text": [
            "epoch: 33 train loss:  194.71480229496956\n",
            "0.001\n",
            "dist 35.250092489826116\n",
            "0.001\n",
            "0.75\n"
          ],
          "name": "stdout"
        },
        {
          "output_type": "display_data",
          "data": {
            "image/png": "[encoded data removed]",
            "text/plain": [
              "<Figure size 432x288 with 2 Axes>"
            ]
          },
          "metadata": {
            "tags": [],
            "needs_background": "light"
          }
        },
        {
          "output_type": "stream",
          "text": [
            "epoch: 34 train loss:  199.66114553809166\n",
            "0.001\n",
            "dist 33.153163152053274\n",
            "0.001\n",
            "0.74\n"
          ],
          "name": "stdout"
        },
        {
          "output_type": "display_data",
          "data": {
            "image/png": "[encoded data removed]",
            "text/plain": [
              "<Figure size 432x288 with 2 Axes>"
            ]
          },
          "metadata": {
            "tags": [],
            "needs_background": "light"
          }
        },
        {
          "output_type": "stream",
          "text": [
            "epoch: 35 train loss:  198.62788972258568\n",
            "0.001\n",
            "dist 34.965223825379205\n",
            "0.001\n",
            "0.73\n"
          ],
          "name": "stdout"
        },
        {
          "output_type": "display_data",
          "data": {
            "image/png": "[encoded data removed]",
            "text/plain": [
              "<Figure size 432x288 with 2 Axes>"
            ]
          },
          "metadata": {
            "tags": [],
            "needs_background": "light"
          }
        },
        {
          "output_type": "stream",
          "text": [
            "epoch: 36 train loss:  197.99928948283195\n",
            "0.001\n",
            "dist 33.374398816130224\n",
            "0.001\n",
            "0.72\n"
          ],
          "name": "stdout"
        },
        {
          "output_type": "display_data",
          "data": {
            "image/png": "[encoded data removed]",
            "text/plain": [
              "<Figure size 432x288 with 2 Axes>"
            ]
          },
          "metadata": {
            "tags": [],
            "needs_background": "light"
          }
        },
        {
          "output_type": "stream",
          "text": [
            "epoch: 37 train loss:  210.84831219911575\n",
            "0.001\n",
            "dist 34.81058083610803\n",
            "0.001\n",
            "0.71\n"
          ],
          "name": "stdout"
        },
        {
          "output_type": "display_data",
          "data": {
            "image/png": "[encoded data removed]",
            "text/plain": [
              "<Figure size 432x288 with 2 Axes>"
            ]
          },
          "metadata": {
            "tags": [],
            "needs_background": "light"
          }
        },
        {
          "output_type": "stream",
          "text": [
            "epoch: 38 train loss:  208.36768978834152\n",
            "0.001\n",
            "dist 34.64927857935627\n",
            "0.001\n",
            "0.7\n"
          ],
          "name": "stdout"
        },
        {
          "output_type": "display_data",
          "data": {
            "image/png": "[encoded data removed]",
            "text/plain": [
              "<Figure size 432x288 with 2 Axes>"
            ]
          },
          "metadata": {
            "tags": [],
            "needs_background": "light"
          }
        },
        {
          "output_type": "stream",
          "text": [
            "epoch: 39 train loss:  214.2237620651722\n",
            "0.001\n",
            "dist 33.847206807251204\n",
            "0.001\n"
          ],
          "name": "stdout"
        }
      ]
    },
    {
      "cell_type": "markdown",
      "metadata": {
        "id": "5oro9Sady9Cq"
      },
      "source": [
        "# testing\n"
      ]
    },
    {
      "cell_type": "code",
      "metadata": {
        "id": "bvtQfA0kaFmP"
      },
      "source": [
        "del train_loader\n",
        "del valid_loader"
      ],
      "execution_count": null,
      "outputs": []
    },
    {
      "cell_type": "code",
      "metadata": {
        "id": "6vrG0pDLaSuD"
      },
      "source": [
        "#!unzip test.npy.zip\n",
        "test = np.load('test.npy', allow_pickle = True)"
      ],
      "execution_count": null,
      "outputs": []
    },
    {
      "cell_type": "code",
      "metadata": {
        "id": "zOP2hrnvaSuO"
      },
      "source": [
        "class Dataset_test(torch.utils.data.Dataset):\n",
        "  def __init__(self, X):\n",
        "    self.X = np.array(X)\n",
        "\n",
        "    self.length = len(self.X)\n",
        "    self.Y = np.zeros(self.length)\n",
        "    \n",
        "  def __len__(self):\n",
        "      \n",
        "    return self.length\n",
        "    \n",
        "  def __getitem__(self, index):\n",
        "  \n",
        "    xx = torch.from_numpy(self.X[index])\n",
        "    yy = torch.from_numpy(self.X[index])\n",
        "     \n",
        "    return xx, yy\n"
      ],
      "execution_count": null,
      "outputs": []
    },
    {
      "cell_type": "code",
      "metadata": {
        "id": "0K_aE6YWaSuO"
      },
      "source": [
        "def pad_sequences(batch):\n",
        "  #sorted_batch = sorted(batch, key=lambda x: x[0].shape[0], reverse=True)\n",
        "\n",
        "  sorted_batch = batch\n",
        "  sequences = [x[0] for x in sorted_batch]\n",
        "  labels = [x[1] for x in sorted_batch]\n",
        "  sequences_padded = torch.nn.utils.rnn.pad_sequence(sequences, batch_first=True)\n",
        "  labels_padded = torch.nn.utils.rnn.pad_sequence(labels, batch_first=True)\n",
        "\n",
        "  seq_lengths = torch.LongTensor([len(x) for x in sequences])\n",
        "  label_lengths = torch.LongTensor([len(x) for x in labels])\n",
        "\n",
        "  return sequences_padded, labels_padded,seq_lengths, label_lengths\n"
      ],
      "execution_count": null,
      "outputs": []
    },
    {
      "cell_type": "code",
      "metadata": {
        "id": "4llaVhaU4KY8"
      },
      "source": [
        "\n",
        "dataset = Dataset_test(test)\n",
        "test_loader_args = dict(shuffle = False, batch_size = 128, num_workers = 0, collate_fn = pad_sequences) \n",
        "test_loader = torch.utils.data.DataLoader(dataset,**test_loader_args)"
      ],
      "execution_count": null,
      "outputs": []
    },
    {
      "cell_type": "code",
      "metadata": {
        "id": "YmDF0cbUmLcM"
      },
      "source": [
        "preds = []\n",
        "for batch_num, (x, y, seq_len,label_len) in enumerate(test_loader):\n",
        "  x = x.to(device)\n",
        "\n",
        "  outputs = model(x, seq_len,False, 0,y=None, mode = 'eval',pretrain = False)\n",
        "  predtext = translate(outputs.argmax(-1).detach().cpu().numpy(), [letter2index['<eos>']], [letter2index['<sos>']])\n",
        "  preds.extend(predtext)\n",
        "  del x\n",
        "  del y\n",
        "  "
      ],
      "execution_count": null,
      "outputs": []
    },
    {
      "cell_type": "code",
      "metadata": {
        "id": "8R5cWkmRFOt1",
        "colab": {
          "base_uri": "https://localhost:8080/"
        },
        "outputId": "4ae5662e-29d5-44ee-ace4-b7413ee3d7dd"
      },
      "source": [
        "import pandas as pd\n",
        "df = pd.DataFrame({'id':np.arange(len(preds)), \"label\":preds})\n",
        "print(df)\n",
        "df.to_csv(r\"submission.csv\", index=False)"
      ],
      "execution_count": null,
      "outputs": [
        {
          "output_type": "stream",
          "text": [
            "        id                                              label\n",
            "0        0  yesterday were trembling for he health that hi...\n",
            "1        1  we were a worn entrastic in the centinacle con...\n",
            "2        2     said sir but i must have money to do that what\n",
            "3        3  as the regards my robbing the company i'll say...\n",
            "4        4  but they could not and a provemitation and sle...\n",
            "...    ...                                                ...\n",
            "2615  2615  i think i must show you my patch work girl sai...\n",
            "2616  2616          who began the quarter was at the vormance\n",
            "2617  2617  this missus poyse  said blussie and believing ...\n",
            "2618  2618  there was infinite scaptices and ran to him in...\n",
            "2619  2619                       but his mother hundred close\n",
            "\n",
            "[2620 rows x 2 columns]\n"
          ],
          "name": "stdout"
        }
      ]
    },
    {
      "cell_type": "code",
      "metadata": {
        "colab": {
          "base_uri": "https://localhost:8080/"
        },
        "id": "aDtD3OcrnSfZ",
        "outputId": "1063ca0f-57ce-44a7-b32a-b34890d547d5"
      },
      "source": [
        "!kaggle competitions submit -c 11785-homework-4-part-2-las-slack -f submission.csv -m \"Message\""
      ],
      "execution_count": null,
      "outputs": [
        {
          "output_type": "stream",
          "text": [
            "Warning: Looks like you're using an outdated API Version, please consider updating (server 1.5.12 / client 1.5.4)\n",
            "100% 293k/293k [00:06<00:00, 47.8kB/s]\n",
            "Successfully submitted to 11785 Homework 4 Part 2 : LAS - Slack"
          ],
          "name": "stdout"
        }
      ]
    },
    {
      "cell_type": "code",
      "metadata": {
        "id": "lCkKc38JnmaK"
      },
      "source": [
        ""
      ],
      "execution_count": null,
      "outputs": []
    }
  ]
}
