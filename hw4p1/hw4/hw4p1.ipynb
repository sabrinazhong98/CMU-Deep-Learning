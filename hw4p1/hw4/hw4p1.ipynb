{
  "nbformat": 4,
  "nbformat_minor": 0,
  "metadata": {
    "accelerator": "GPU",
    "colab": {
      "name": "training.ipynb",
      "provenance": [],
      "collapsed_sections": []
    },
    "kernelspec": {
      "display_name": "Python 3",
      "language": "python",
      "name": "python3"
    },
    "language_info": {
      "codemirror_mode": {
        "name": "ipython",
        "version": 3
      },
      "file_extension": ".py",
      "mimetype": "text/x-python",
      "name": "python",
      "nbconvert_exporter": "python",
      "pygments_lexer": "ipython3",
      "version": "3.8.5"
    }
  },
  "cells": [
    {
      "cell_type": "code",
      "metadata": {
        "colab": {
          "base_uri": "https://localhost:8080/"
        },
        "id": "7QRRMJzfqFPk",
        "outputId": "4d617cbb-e031-4dca-8743-4c4ec0ba9221"
      },
      "source": [
        "#connect to gdrive\n",
        "from google.colab import drive\n",
        "drive.mount('/content/gdrive')\n",
        "%cd gdrive/MyDrive\n",
        "#%cd ../..\n",
        "!pwd"
      ],
      "execution_count": 1,
      "outputs": [
        {
          "output_type": "stream",
          "text": [
            "Mounted at /content/gdrive\n",
            "/content/gdrive/MyDrive\n",
            "/content/gdrive/MyDrive\n"
          ],
          "name": "stdout"
        }
      ]
    },
    {
      "cell_type": "code",
      "metadata": {
        "id": "oxiZ42B4SwQ-"
      },
      "source": [
        "%matplotlib inline\n",
        "\n",
        "import numpy as np\n",
        "from matplotlib import pyplot as plt\n",
        "import time\n",
        "import os\n",
        "import torch\n",
        "import torch.nn as nn\n",
        "from torch.autograd import Variable\n",
        "from torch.utils.data import Dataset, DataLoader\n",
        "import tests\n",
        "#from tests import test_prediction, test_generation"
      ],
      "execution_count": 2,
      "outputs": []
    },
    {
      "cell_type": "code",
      "metadata": {
        "colab": {
          "base_uri": "https://localhost:8080/"
        },
        "id": "9GIzAnNOqUOo",
        "outputId": "9afc02e7-f5b3-4603-ad12-1fd70b0a9b6c"
      },
      "source": [
        "%cd hw4p1/dataset"
      ],
      "execution_count": 3,
      "outputs": [
        {
          "output_type": "stream",
          "text": [
            "/content/gdrive/MyDrive/hw4p1/dataset\n"
          ],
          "name": "stdout"
        }
      ]
    },
    {
      "cell_type": "code",
      "metadata": {
        "colab": {
          "base_uri": "https://localhost:8080/"
        },
        "id": "13aDHuEGqeym",
        "outputId": "25cd9abd-2087-45a0-8902-1246f3dc6a93"
      },
      "source": [
        "\n",
        "!ls"
      ],
      "execution_count": 4,
      "outputs": [
        {
          "output_type": "stream",
          "text": [
            "experiments\t     prediction.npz\t  vocab.csv\t  wiki.valid.npy\n",
            "generation.npy\t     prediction_test.npz  vocab.npy\n",
            "generation_test.npy  tests.py\t\t  wiki.train.npy\n"
          ],
          "name": "stdout"
        }
      ]
    },
    {
      "cell_type": "code",
      "metadata": {
        "id": "x5znxQhLSwRC"
      },
      "source": [
        "# load all that we need\n",
        "\n",
        "dataset = np.load('wiki.train.npy', allow_pickle=True)\n",
        "devset = np.load('wiki.valid.npy', allow_pickle=True)\n",
        "fixtures_pred = np.load('prediction.npz')  # dev\n",
        "fixtures_gen = np.load('generation.npy')  # dev\n",
        "fixtures_pred_test = np.load('prediction_test.npz')  # test\n",
        "fixtures_gen_test = np.load('generation_test.npy')  # test\n",
        "vocab = np.load('vocab.npy')"
      ],
      "execution_count": 5,
      "outputs": []
    },
    {
      "cell_type": "code",
      "metadata": {
        "id": "xrmp_O35mM00"
      },
      "source": [
        "# data loader\n",
        "\n",
        "class LanguageModelDataLoader(DataLoader):\n",
        "    \"\"\"\n",
        "        TODO: Define data loader logic here\n",
        "    \"\"\"\n",
        "    def __init__(self, dataset, batch_size, shuffle=True):\n",
        "        \n",
        "        self.dataset = dataset\n",
        "        self.batch_size = batch_size\n",
        "        self.shuffle = shuffle\n",
        "\n",
        "\n",
        "    def __iter__(self):\n",
        "        \n",
        "        if self.shuffle:\n",
        "            np.random.shuffle(self.dataset)\n",
        "        # concatenate your articles and build into batches\n",
        "        concats = np.concatenate(self.dataset)\n",
        "\n",
        "        p = np.random.random_sample()\n",
        "            \n",
        "        if p < 0.95:\n",
        "            seqlens = int(np.random.normal(70,5))\n",
        "        else:\n",
        "            seqlens = int(np.random.normal(35,5))\n",
        " \n",
        "        \n",
        "        concat_len = (len(concats)// seqlens) * seqlens\n",
        "        \n",
        "        x = torch.from_numpy(concats[:concat_len])\n",
        "        y = torch.from_numpy(concats[1: concat_len+1])\n",
        "\n",
        "        x_set = []\n",
        "        y_set = []\n",
        "        \n",
        "        idx = 0\n",
        "        while idx < concat_len:\n",
        "          x_set.append(x[idx: idx+seqlens])\n",
        "          y_set.append(y[idx: idx+seqlens])\n",
        "          idx += seqlens\n",
        "\n",
        "       \n",
        "        num_batch =len(x_set)//self.batch_size\n",
        "   \n",
        "        x_set = torch.stack(x_set)[:num_batch * self.batch_size]\n",
        "        y_set = torch.stack(y_set)[:num_batch * self.batch_size]\n",
        "\n",
        "        x_set = x_set.view(num_batch,self.batch_size, -1).long()\n",
        "        y_set = y_set.view(num_batch,self.batch_size, -1).long()\n",
        "\n",
        "        for l in range(len(x_set)):\n",
        "          current_x = x_set[l]\n",
        "          current_y = y_set[l]          \n",
        "          yield current_x, current_y\n",
        "        \n",
        "      "
      ],
      "execution_count": 8,
      "outputs": []
    },
    {
      "cell_type": "code",
      "metadata": {
        "id": "WhxCoYdOum5F"
      },
      "source": [
        "class LockedDropout(nn.Module):\n",
        "    def __init__(self):\n",
        "        super().__init__()\n",
        "\n",
        "    def forward(self, x, dropout=0.5):\n",
        "        m = x.data.new(1, x.size(1), x.size(2)).bernoulli_(1 - dropout)\n",
        "        mask = Variable(m, requires_grad=False) / (1 - dropout)\n",
        "        mask = mask.expand_as(x)\n",
        "        return mask * x"
      ],
      "execution_count": 9,
      "outputs": []
    },
    {
      "cell_type": "code",
      "metadata": {
        "id": "5nDTwWrnnqFQ"
      },
      "source": [
        "def embedded_dropout(embed, words, dropout=0.1, scale=None):\n",
        "  if dropout:\n",
        "    mask = embed.weight.data.new().resize_((embed.weight.size(0), 1)).bernoulli_(1 - dropout).expand_as(embed.weight) / (1 - dropout)\n",
        "    masked_embed_weight = mask * embed.weight\n",
        "\n",
        "  X = torch.nn.functional.embedding(words, masked_embed_weight,\n",
        "    -1, embed.max_norm, embed.norm_type,\n",
        "    embed.scale_grad_by_freq, embed.sparse\n",
        "  )\n",
        "  return X"
      ],
      "execution_count": 10,
      "outputs": []
    },
    {
      "cell_type": "code",
      "metadata": {
        "id": "Zt-7YsTYSwRI"
      },
      "source": [
        "\n",
        "# model\n",
        "\n",
        "class LanguageModel(nn.Module):\n",
        "    \"\"\"\n",
        "        TODO: Define your model here\n",
        "    \"\"\"\n",
        "    def __init__(self, vocab_size, hidden = 1150, embed = 400):#embed = hidden\n",
        "        super(LanguageModel, self).__init__()\n",
        "        self.embedding = nn.Embedding(vocab_size, embed)\n",
        "        self.dropout = LockedDropout()\n",
        "        \n",
        "        #self.lstm = nn.LSTM(input_size = embed, hidden_size = hidden, \n",
        "         #                   num_layers=3, batch_first=True, dropout = 0.6)\n",
        "        \n",
        "        self.lstm1 = nn.LSTM(input_size = embed, hidden_size = hidden, \n",
        "                            num_layers=1, batch_first=True)\n",
        "                     \n",
        "        self.lstm2 = nn.LSTM(input_size = embed, hidden_size = hidden, \n",
        "                            num_layers=1, batch_first=True)\n",
        "        \n",
        "        self.lstm3 = nn.LSTM(input_size = embed, hidden_size = hidden, \n",
        "                            num_layers=1, batch_first=True)\n",
        "    \n",
        "        self.linear = nn.Linear(hidden, hidden*2)\n",
        "        self.linear2 = nn.Linear(hidden*2, hidden)\n",
        "        self.output = nn.Linear(hidden, vocab_size)\n",
        "        \n",
        "        self.hidsize = hidden\n",
        "        self.vocab_size = vocab_size\n",
        "        \n",
        "        #weight tying\n",
        "        self.output.weight = self.embedding.weight\n",
        "   \n",
        "\n",
        "    def forward(self, x, h0 = None):\n",
        "        \n",
        "        # Feel free to add extra arguments to forward (like an argument to pass in the hiddens)\n",
        "        if  'array' in str(type(x)):\n",
        "          x = torch.tensor(x)\n",
        "  \n",
        "        x = x.to(device)\n",
        "\n",
        "        emb = embedded_dropout(self.embedding,x, dropout = 0.1)\n",
        "        raw_output = []\n",
        "        x = self.dropout(emb, 0.3)\n",
        "\n",
        "        #x, h0 = self.lstm(x, h0)       \n",
        "        hnew = []  \n",
        "        outputs = []\n",
        "        x,h0 = self.lstm1(x,h0)\n",
        "        x = self.dropout(x,0.4)\n",
        "        x,h0 = self.lstm2(x,h0)\n",
        "        x = self.dropout(x, 0.5)\n",
        "        x, h0 = self.lstm3(x,h0)\n",
        "\n",
        "\n",
        "        output = self.output(self.dropout(x))\n",
        "        \n",
        "        #print(output.shape)\n",
        "\n",
        "        return output.permute(0,2,1), raw_output\n",
        "        \n",
        "\n"
      ],
      "execution_count": 51,
      "outputs": []
    },
    {
      "cell_type": "code",
      "metadata": {
        "id": "kIvZOIfjSwRK"
      },
      "source": [
        "# model trainer\n",
        "device = torch.device('cuda' if torch.cuda.is_available() else 'cpu')\n",
        "\n",
        "class LanguageModelTrainer:\n",
        "    def __init__(self, model, loader, max_epochs=1, run_id='exp'):\n",
        "        \"\"\"\n",
        "            Use this class to train your model\n",
        "        \"\"\"\n",
        "        # feel free to add any other parameters here\n",
        "        self.model = model\n",
        "        self.loader = loader\n",
        "        self.train_losses = []\n",
        "        self.val_losses = []\n",
        "        self.predictions = []\n",
        "        self.predictions_test = []\n",
        "        self.generated_logits = []\n",
        "        self.generated = []\n",
        "        self.generated_logits_test = []\n",
        "        self.generated_test = []\n",
        "        self.epochs = 0\n",
        "        self.max_epochs = max_epochs\n",
        "        self.run_id = run_id\n",
        "        \n",
        "        # TODO: Define your optimizer and criterion here\n",
        "        self.optimizer = torch.optim.Adam(self.model.parameters(),lr = 0.004,\n",
        "                                         weight_decay = 1.2e-6)\n",
        "       # self.scheduler =torch.optim.lr_scheduler.ReduceLROnPlateau(self.optimizer, 'min', 0.5,1)\n",
        "        self.scheduler = torch.optim.lr_scheduler.StepLR(self.optimizer, step_size=1, gamma=0.8)\n",
        "\n",
        "        self.criterion = torch.nn.CrossEntropyLoss()\n",
        "\n",
        "    def train(self):\n",
        "        self.model.train() # set to training mode\n",
        "        epoch_loss = 0\n",
        "        num_batches = 0\n",
        "        for batch_num, (inputs, targets) in enumerate(self.loader):\n",
        "           \n",
        "            epoch_loss += self.train_batch(inputs, targets)\n",
        "            \n",
        "\n",
        "        epoch_loss = epoch_loss / (batch_num + 1)\n",
        "        self.epochs += 1\n",
        "        print('[TRAIN]  Epoch [%d/%d]   Loss: %.4f'\n",
        "                      % (self.epochs + 1, self.max_epochs, epoch_loss))\n",
        "        self.train_losses.append(epoch_loss)\n",
        "\n",
        "    def train_batch(self, inputs, targets):\n",
        "        \"\"\" \n",
        "            TODO: Define code for training a single batch of inputs\n",
        "\n",
        "        \n",
        "        \"\"\"\n",
        "        self.optimizer.zero_grad()\n",
        "        \n",
        "        \n",
        "        targets = targets.to(device)\n",
        "        inputs = inputs.to(device)\n",
        "\n",
        "        outputs, raw_output = self.model(inputs)\n",
        "        #print(outputs.shape, targets.shape)\n",
        "\n",
        "\n",
        "        loss = self.criterion(outputs, targets) #+ sum(0.6 * (raw[1:] - raw[:-1]).pow(2).mean() for raw in raw_output[-1:])\n",
        "        loss.backward()\n",
        "        self.optimizer.step()\n",
        "    \n",
        "        return loss\n",
        "\n",
        "    \n",
        "    def test(self):\n",
        "        # don't change these\n",
        "\n",
        "        self.model.eval() # set to eval mode\n",
        "        predictions = TestLanguageModel.prediction(fixtures_pred['inp'], self.model) # get predictions\n",
        "        self.predictions.append(predictions)\n",
        "        generated_logits = TestLanguageModel.generation(fixtures_gen, 10, self.model) # generated predictions for 10 words\n",
        "        generated_logits_test = TestLanguageModel.generation(fixtures_gen_test, 10, self.model)\n",
        "        nll = test_prediction(predictions, fixtures_pred['out'])  #changed\n",
        "        generated = test_generation(fixtures_gen, generated_logits, vocab) #changed\n",
        "        generated_test = test_generation(fixtures_gen_test, generated_logits_test, vocab) #changed\n",
        "        self.val_losses.append(nll)\n",
        "        \n",
        "        self.generated.append(generated)\n",
        "        self.generated_test.append(generated_test)\n",
        "        self.generated_logits.append(generated_logits)\n",
        "        self.generated_logits_test.append(generated_logits_test)\n",
        "        \n",
        "        # generate predictions for test data\n",
        "        predictions_test = TestLanguageModel.prediction(fixtures_pred_test['inp'], self.model) # get predictions\n",
        "        self.predictions_test.append(predictions_test)\n",
        "        self.scheduler.step()\n",
        "        for param_group in self.optimizer.param_groups:\n",
        "          print(param_group['lr'])\n",
        "        print('[VAL]  Epoch [%d/%d]   Loss: %.4f'\n",
        "                      % (self.epochs + 1, self.max_epochs, nll))\n",
        "        return nll\n",
        "\n",
        "    def save(self):\n",
        "        # don't change these\n",
        "        model_path = os.path.join('experiments', self.run_id, 'model-{}.pkl'.format(self.epochs))\n",
        "        torch.save({'state_dict': self.model.state_dict()},\n",
        "            model_path)\n",
        "        np.save(os.path.join('experiments', self.run_id, 'predictions-{}.npy'.format(self.epochs)), self.predictions[-1])\n",
        "        np.save(os.path.join('experiments', self.run_id, 'predictions-test-{}.npy'.format(self.epochs)), self.predictions_test[-1])\n",
        "        np.save(os.path.join('experiments', self.run_id, 'generated_logits-{}.npy'.format(self.epochs)), self.generated_logits[-1])\n",
        "        np.save(os.path.join('experiments', self.run_id, 'generated_logits-test-{}.npy'.format(self.epochs)), self.generated_logits_test[-1])\n",
        "        with open(os.path.join('experiments', self.run_id, 'generated-{}.txt'.format(self.epochs)), 'w') as fw:\n",
        "            fw.write(self.generated[-1])\n",
        "        with open(os.path.join('experiments', self.run_id, 'generated-{}-test.txt'.format(self.epochs)), 'w') as fw:\n",
        "            fw.write(self.generated_test[-1])\n"
      ],
      "execution_count": 52,
      "outputs": []
    },
    {
      "cell_type": "code",
      "metadata": {
        "id": "xPI7_kZRSwRN"
      },
      "source": [
        "class TestLanguageModel:\n",
        "    def prediction(inp, model):\n",
        "        \"\"\"\n",
        "            TODO: write prediction code here\n",
        "            \n",
        "            :param inp:\n",
        "            :return: a np.ndarray of logits\n",
        "        \"\"\"\n",
        "        model.eval()\n",
        "        with torch.no_grad():\n",
        "            output,_ = model(inp)\n",
        "            output = output.permute(0,2,1)\n",
        "            \n",
        "        return output[:,-1].cpu().detach().numpy()\n",
        "\n",
        "        \n",
        "    def generation(inp, forward, model):\n",
        "        \"\"\"\n",
        "            TODO: write generation code here\n",
        "\n",
        "            Generate a sequence of words given a starting sequence.\n",
        "            :param inp: Initial sequence of words (batch size, length)\n",
        "            :param forward: number of additional words to generate\n",
        "            :return: generated words (batch size, forward)\n",
        "            \n",
        "        model.eval()\n",
        "        with torch.no_grad():\n",
        "            gen = []\n",
        "            inp = torch.tensor(inp).to(device)\n",
        "            output,_ = model(inp)\n",
        "            output = output.permute(0,2,1)\n",
        "            \n",
        "\n",
        "            for f in range(forward):  \n",
        "              if f == 0:\n",
        "                w = torch.argmax(output, dim = 2)\n",
        "                w = w[:,len(w[0])-1].unsqueeze(1)\n",
        "                gen.append(w)\n",
        "              else:\n",
        "                w,_ = model(w)\n",
        "                w = w.permute(0,2,1)    \n",
        "                w = torch.argmax(w, dim = 2)\n",
        "                w = w[:,len(w[0])-1].unsqueeze(1)\n",
        "                gen.append(w)\n",
        "                \n",
        "            generated = torch.cat(gen, dim=1).cpu().detach().numpy()  \n",
        "        return  generated\n",
        "        \"\"\"\n",
        "        model.eval()\n",
        "        with torch.no_grad():\n",
        "            gen = []\n",
        "            inp = torch.tensor(inp).to(device)\n",
        "            output,_ = model(inp)\n",
        "            output = output.permute(0,2,1)\n",
        "\n",
        "          \n",
        "            o = output[:,-1]\n",
        "            \n",
        "            w = torch.argmax(o, dim = 1).unsqueeze(1)\n",
        "            word_cat = torch.cat((inp, w), dim = 1)\n",
        "            gen.append(w)\n",
        "  \n",
        "            for f in range(forward -1):\n",
        "              out,_ = model(word_cat)\n",
        "              out = out.permute(0,2,1)\n",
        "              o = out[:,-1]\n",
        "              w = torch.argmax(o, dim = 1).unsqueeze(1)\n",
        "              word_cat = torch.cat((word_cat, w), dim = 1)\n",
        "             \n",
        "        return  word_cat[:,-forward:].cpu().numpy()"
      ],
      "execution_count": 53,
      "outputs": []
    },
    {
      "cell_type": "code",
      "metadata": {
        "id": "TiUrjbEjSwRQ"
      },
      "source": [
        "\n",
        "# TODO: define other hyperparameters here\n",
        "\n",
        "NUM_EPOCHS = 15\n",
        "BATCH_SIZE = 64\n"
      ],
      "execution_count": 44,
      "outputs": []
    },
    {
      "cell_type": "code",
      "metadata": {
        "colab": {
          "base_uri": "https://localhost:8080/"
        },
        "id": "2HCVG5YISwRW",
        "scrolled": true,
        "outputId": "cae3d824-c7aa-4f23-bbff-ddc9c6fb118b"
      },
      "source": [
        "run_id = str(int(time.time()))\n",
        "if not os.path.exists('./experiments'):\n",
        "    os.mkdir('./experiments')\n",
        "os.mkdir('./experiments/%s' % run_id)\n",
        "print(\"Saving models, predictions, and generated words to ./experiments/%s\" % run_id)"
      ],
      "execution_count": 45,
      "outputs": [
        {
          "output_type": "stream",
          "text": [
            "Saving models, predictions, and generated words to ./experiments/1620597432\n"
          ],
          "name": "stdout"
        }
      ]
    },
    {
      "cell_type": "code",
      "metadata": {
        "id": "yeYfzJtK19Gw"
      },
      "source": [
        "import numpy as np\n",
        "\n",
        "def log_softmax(x, axis):\n",
        "    ret = x - np.max(x, axis=axis, keepdims=True)\n",
        "    lsm = np.log(np.sum(np.exp(ret), axis=axis, keepdims=True))\n",
        "    return ret - lsm\n",
        "\n",
        "\n",
        "def array_to_str(arr, vocab):\n",
        "    return \" \".join(vocab[a] for a in arr)\n",
        "\n",
        "\n",
        "def test_prediction(out, targ):\n",
        "    out = log_softmax(out, 1)\n",
        "    nlls = out[np.arange(out.shape[0]), targ]\n",
        "    nll = -np.mean(nlls)\n",
        "    return nll\n",
        "\n",
        "def test_generation(inp, pred, vocab):\n",
        "    outputs = u\"\"\n",
        "    for i in range(inp.shape[0]):\n",
        "        w1 = array_to_str(inp[i], vocab)\n",
        "        w2 = array_to_str(pred[i], vocab)\n",
        "        outputs += u\"Input | Output #{}: {} | {}\\n\".format(i, w1, w2)\n",
        "    return outputs"
      ],
      "execution_count": 46,
      "outputs": []
    },
    {
      "cell_type": "code",
      "metadata": {
        "id": "DbHH6zXTSwRa"
      },
      "source": [
        "\n",
        "model = LanguageModel(len(vocab), hidden =400, embed = 400).to(device)\n",
        "loader = LanguageModelDataLoader(dataset=dataset, batch_size=BATCH_SIZE, shuffle=True)\n",
        "trainer = LanguageModelTrainer(model=model, loader=loader, max_epochs=NUM_EPOCHS, run_id=run_id)\n"
      ],
      "execution_count": 47,
      "outputs": []
    },
    {
      "cell_type": "code",
      "metadata": {
        "colab": {
          "base_uri": "https://localhost:8080/"
        },
        "id": "7D8wTJkBSwRc",
        "scrolled": true,
        "outputId": "d192bb43-9d24-41eb-b5fb-637df91f38f0"
      },
      "source": [
        "best_nll = 5\n",
        "for epoch in range(NUM_EPOCHS):\n",
        "    trainer.train()\n",
        "    nll = trainer.test()\n",
        "    #print(nll)\n",
        "  \n",
        "    if nll < best_nll:\n",
        "        best_nll = nll\n",
        "        print(\"Saving model, predictions and generated output for epoch \"+str(epoch)+\" with NLL: \"+ str(best_nll))\n",
        "        trainer.save()\n",
        "    "
      ],
      "execution_count": 48,
      "outputs": [
        {
          "output_type": "stream",
          "text": [
            "[TRAIN]  Epoch [2/15]   Loss: 6.9594\n",
            "0.0032\n",
            "[VAL]  Epoch [2/15]   Loss: 5.7462\n",
            "[TRAIN]  Epoch [3/15]   Loss: 6.2466\n",
            "0.00256\n",
            "[VAL]  Epoch [3/15]   Loss: 5.4103\n",
            "[TRAIN]  Epoch [4/15]   Loss: 5.9893\n",
            "0.0020480000000000003\n",
            "[VAL]  Epoch [4/15]   Loss: 5.1841\n",
            "[TRAIN]  Epoch [5/15]   Loss: 5.8187\n",
            "0.0016384000000000004\n",
            "[VAL]  Epoch [5/15]   Loss: 5.0520\n",
            "[TRAIN]  Epoch [6/15]   Loss: 5.6902\n",
            "0.0013107200000000005\n",
            "[VAL]  Epoch [6/15]   Loss: 5.2533\n",
            "[TRAIN]  Epoch [7/15]   Loss: 5.5954\n",
            "0.0010485760000000005\n",
            "[VAL]  Epoch [7/15]   Loss: 4.9968\n",
            "Saving model, predictions and generated output for epoch 5 with NLL: 4.996788\n",
            "[TRAIN]  Epoch [8/15]   Loss: 5.4409\n",
            "0.0008388608000000005\n",
            "[VAL]  Epoch [8/15]   Loss: 4.9674\n",
            "Saving model, predictions and generated output for epoch 6 with NLL: 4.9673824\n",
            "[TRAIN]  Epoch [9/15]   Loss: 5.3780\n",
            "0.0006710886400000004\n",
            "[VAL]  Epoch [9/15]   Loss: 4.8460\n",
            "Saving model, predictions and generated output for epoch 7 with NLL: 4.846002\n",
            "[TRAIN]  Epoch [10/15]   Loss: 5.3147\n",
            "0.0005368709120000003\n",
            "[VAL]  Epoch [10/15]   Loss: 4.8365\n",
            "Saving model, predictions and generated output for epoch 8 with NLL: 4.836479\n",
            "[TRAIN]  Epoch [11/15]   Loss: 5.2752\n",
            "0.0004294967296000003\n",
            "[VAL]  Epoch [11/15]   Loss: 4.9984\n",
            "[TRAIN]  Epoch [12/15]   Loss: 5.2384\n",
            "0.00034359738368000027\n",
            "[VAL]  Epoch [12/15]   Loss: 4.8063\n",
            "Saving model, predictions and generated output for epoch 10 with NLL: 4.806265\n",
            "[TRAIN]  Epoch [13/15]   Loss: 5.2027\n",
            "0.00027487790694400024\n",
            "[VAL]  Epoch [13/15]   Loss: 4.8641\n",
            "[TRAIN]  Epoch [14/15]   Loss: 5.1856\n",
            "0.0002199023255552002\n",
            "[VAL]  Epoch [14/15]   Loss: 4.9630\n",
            "[TRAIN]  Epoch [15/15]   Loss: 5.1691\n",
            "0.00017592186044416018\n",
            "[VAL]  Epoch [15/15]   Loss: 4.7715\n",
            "Saving model, predictions and generated output for epoch 13 with NLL: 4.771451\n",
            "[TRAIN]  Epoch [16/15]   Loss: 5.1483\n",
            "0.00014073748835532815\n",
            "[VAL]  Epoch [16/15]   Loss: 4.6818\n",
            "Saving model, predictions and generated output for epoch 14 with NLL: 4.681836\n"
          ],
          "name": "stdout"
        }
      ]
    },
    {
      "cell_type": "code",
      "metadata": {
        "colab": {
          "base_uri": "https://localhost:8080/",
          "height": 279
        },
        "id": "z2FmDqBCSwRf",
        "outputId": "e2d04bc0-d74d-46b9-b22d-439d2cf254d6"
      },
      "source": [
        "\n",
        "# Don't change these\n",
        "# plot training curves\n",
        "plt.figure()\n",
        "plt.plot(range(1, trainer.epochs + 1), trainer.train_losses, label='Training losses')\n",
        "plt.plot(range(1, trainer.epochs + 1), trainer.val_losses, label='Validation losses')\n",
        "plt.xlabel('Epochs')\n",
        "plt.ylabel('NLL')\n",
        "plt.legend()\n",
        "plt.show()"
      ],
      "execution_count": 49,
      "outputs": [
        {
          "output_type": "display_data",
          "data": {
            "image/png": "[encoded data removed]",
            "text/plain": [
              "<Figure size 432x288 with 1 Axes>"
            ]
          },
          "metadata": {
            "tags": [],
            "needs_background": "light"
          }
        }
      ]
    },
    {
      "cell_type": "code",
      "metadata": {
        "colab": {
          "base_uri": "https://localhost:8080/"
        },
        "id": "ipdbmqaGSwRh",
        "outputId": "35085d11-0f7e-4668-9c26-0e1347ebb51a"
      },
      "source": [
        "print (trainer.generated[-1]) "
      ],
      "execution_count": 50,
      "outputs": [
        {
          "output_type": "stream",
          "text": [
            "Input | Output #0: while the group was en route , but only three were ultimately able to attack . None of them were | not to . The two @-@ month line of .\n",
            "Input | Output #1: <unk> , where he remained on loan until 30 June 2010 . <eol> = = = Return to Manchester United | = = = <eol> On July May , the first\n",
            "Input | Output #2: 25 April 2013 , denoting shipments of 500 @,@ 000 copies . <eol> The song became One Direction 's fourth | @-@ selling single , \" The Year \" , was\n",
            "Input | Output #3: , and Bruce R. ) one daughter ( Wendy J. <unk> ) and two grandchildren , died in <unk> , | <unk> , <unk> , <unk> , <unk> ) , <unk>\n",
            "Input | Output #4: Warrior were examples of this type . Because their armor was so heavy , they could only carry a single | @-@ day @-@ field <unk> , and a few days\n",
            "Input | Output #5: the embassy at 1 : 49 and landed on Guam at 2 : 23 ; twenty minutes later , Ambassador | was also reported to have been used for the game\n",
            "Input | Output #6: <unk> , $ 96 million USD ) . Damage was heaviest in South Korea , notably where it moved ashore | . The <unk> , the <unk> , , and <unk>\n",
            "Input | Output #7: The <unk> were condemned as <unk> by <unk> , who saw the riots as hampering attempts to resolve the situation | . <eol> = = = = Kingdom = = =\n",
            "Input | Output #8: by a decision made by the War Office in mid @-@ 1941 , as it was considering the equipment to | be used as a <unk> . <eol> = = =\n",
            "Input | Output #9: Division crossed the <unk> at a number of places and climbed the hills quietly toward the 9th Infantry river line | . <eol> = = = = Hurricane = = =\n",
            "Input | Output #10: = <eol> = = = French VIII . Corps ( Corps <unk> ) = = = <eol> On 6 November | , the <unk> <unk> was the first son of in\n",
            "Input | Output #11: of the World from 9th Avenue \" . This is regarded as his most famous work . It is considered | a new <unk> of the <unk> , <unk> , <unk>\n",
            "Input | Output #12: — <unk> @-@ 10 , <unk> @-@ 12 , <unk> @-@ 16 , <unk> @-@ 17 — were all converted | to the <unk> . <eol> = = = <unk> =\n",
            "Input | Output #13: And now he has . \" <eol> = = Family = = <eol> <unk> lived 37 of his years in | the series , but the first time was the first\n",
            "Input | Output #14: Hell to which he has been condemned for <unk> . Eliot , in a letter to John <unk> dated 27 | May , and the <unk> of the <unk> , which\n",
            "Input | Output #15: Luoyang area , fulfilling his duties in domestic affairs . <eol> In the autumn of <unk> , he met Li | 's death in the , and the United States ,\n",
            "Input | Output #16: Power said they enjoyed Block Ball and its number of stages , but wondered how its eight <unk> of memory | was more . The film 's music was , and\n",
            "Input | Output #17: by Lloyd F. Lonergan . The cameraman was Jacques <unk> . <eol> = = Release and reception = = <eol> | <unk> ( <unk> ) , <unk> , <unk> , <unk>\n",
            "Input | Output #18: alone , the Austrians lost more than half their reserve artillery park , 6 @,@ 000 ( out of 8 | @,@ 000 @,@ 000 long tons ) . The .\n",
            "Input | Output #19: while attacking a ship at <unk> in the Dutch East Indies ; the loss was compounded by the fact that | the first three @-@ year @-@ old was were <unk>\n",
            "Input | Output #20: first raised in 2007 by the member of parliament ( MP ) for <unk> . The gangsters may have run | in the <unk> , which is the only of of\n",
            "Input | Output #21: Species are also non @-@ spiny <unk> and includes both large trees with stout stems up to 30 metres ( | 3 ft ) , and are the most common species\n",
            "Input | Output #22: \" : specific design issues with the building 's energy efficiency included the fact that the largest room in the | area . . The <unk> of the <unk> , which\n",
            "Input | Output #23: were reported to support over 300 @,@ 000 households in the Brazilian state of <unk> in 2005 , and in | May 2011 , the was also the first to be\n",
            "Input | Output #24: port . <unk> in Vietnam also warned for the potential of heavy rainfall due to the dissipating Tropical Depression <unk> | , the German and Ottoman force was completed in January\n",
            "Input | Output #25: T @-@ numbers in their tropical cyclone products . The following example is from discussion number 3 of Tropical Depression | At the <unk> , the second highway was to be\n",
            "Input | Output #26: South Australia hosted the three @-@ game semi @-@ final series against the New South Wales <unk> . Both teams | were also called the the most popular and most of\n",
            "Input | Output #27: Perth from contention and secured the last finals spot for the <unk> . <eol> = = = Statistical leaders = | = = <eol> The film was the first to be\n",
            "Input | Output #28: deemed it an \" amazing pop song \" , lauding the group 's falsetto and its \" head @-@ <unk> | \" . <eol> The film 's original <unk> , <unk>\n",
            "Input | Output #29: , but began patrolling the English Channel after <unk> @-@ 6 pioneered a route past British <unk> nets and mines | . The <unk> , the <unk> , , and the\n",
            "Input | Output #30: production executives to let him direct . He had already discussed the film with <unk> and Cohen , and felt | that was the <unk> in of the series , and\n",
            "Input | Output #31: and Nick <unk> at Studio <unk> in Los Angeles , California , and was released on August 1 , 2006 | . <eol> = = = = = <unk> = =\n",
            "\n"
          ],
          "name": "stdout"
        }
      ]
    },
    {
      "cell_type": "code",
      "metadata": {
        "id": "H2y9CNVls8HN"
      },
      "source": [
        ""
      ],
      "execution_count": null,
      "outputs": []
    }
  ]
}