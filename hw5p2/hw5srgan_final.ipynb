{
 "cells": [
  {
   "cell_type": "markdown",
   "metadata": {
    "id": "x37QFGFUdgnP"
   },
   "source": [
    "# set up"
   ]
  },
  {
   "cell_type": "code",
   "execution_count": 1,
   "metadata": {
    "colab": {
     "base_uri": "https://localhost:8080/"
    },
    "id": "tD8ut16vdTmA",
    "outputId": "05c136ea-d646-4c8a-9493-affe5268430e"
   },
   "outputs": [
    {
     "name": "stdout",
     "output_type": "stream",
     "text": [
      "Mounted at /content/gdrive\n",
      "/content/gdrive/MyDrive\n",
      "/content/gdrive/MyDrive\n"
     ]
    }
   ],
   "source": [
    "#connect to gdrive\n",
    "from google.colab import drive\n",
    "drive.mount('/content/gdrive')\n",
    "%cd gdrive/MyDrive\n",
    "#%cd ../..\n",
    "!pwd"
   ]
  },
  {
   "cell_type": "code",
   "execution_count": null,
   "metadata": {
    "colab": {
     "base_uri": "https://localhost:8080/"
    },
    "id": "9BjYVPnOdkPn",
    "outputId": "3fa7ec1c-3883-4aa6-e9b5-af7401550544"
   },
   "outputs": [
    {
     "name": "stdout",
     "output_type": "stream",
     "text": [
      "'Colab Notebooks'\t  large_hr\t netd_report7   netg_report6\n",
      " comics\t\t\t  large_test\t netd_report8   netg_report7\n",
      " DIV2K_train_HR\t\t  netd_report1\t netd_SRGAN     netg_report8\n",
      " DIV2K_train_LR_bicubic   netd_report2\t netg_report1   netg_SRGAN\n",
      " DIV2K_valid_HR\t\t  netd_report3\t netg_report2   structures\n",
      " DIV2K_valid_LR_bicubic   netd_report4\t netg_report3   test_out\n",
      " HW5_test\t\t  netd_report5\t netg_report4   wandb\n",
      " HW5_train_val.zip\t  netd_report6\t netg_report5\n"
     ]
    }
   ],
   "source": [
    "#%cd competitions/hw5\n",
    "!ls"
   ]
  },
  {
   "cell_type": "code",
   "execution_count": null,
   "metadata": {
    "id": "AunyNxW3eJsP"
   },
   "outputs": [],
   "source": [
    "#!unzip HW5_train_val.zip\n",
    "#!unzip sample_submission.zip"
   ]
  },
  {
   "cell_type": "code",
   "execution_count": null,
   "metadata": {
    "id": "3WFXbAYThM-B"
   },
   "outputs": [],
   "source": [
    "\n",
    "#!unzip DIV2K_train_HR.zip\n",
    "#!unzip DIV2K_train_LR_bicubic_X4.zip\n",
    "#!unzip DIV2K_valid_HR.zip\n",
    "#!unzip DIV2K_valid_LR_bicubic_X4.zip"
   ]
  },
  {
   "cell_type": "markdown",
   "metadata": {
    "id": "vNLxYIIIfc0d"
   },
   "source": [
    "# pre-processing\n"
   ]
  },
  {
   "cell_type": "code",
   "execution_count": 2,
   "metadata": {
    "id": "WWFHweMpi6kz"
   },
   "outputs": [],
   "source": [
    "from torch.autograd import Variable\n",
    "import torch.optim as optim\n",
    "from PIL import Image\n",
    "import PIL.ImageOps  \n",
    "from torchvision import transforms\n",
    "import numpy as np\n",
    "from os import listdir\n",
    "import torchvision\n",
    "import torch\n",
    "from torchvision.utils import save_image\n",
    "from torch import nn\n",
    "from skimage.transform import rescale, resize, downscale_local_mean\n",
    "from PIL import Image, ImageFilter\n",
    "import torchvision.transforms.functional \n",
    "from torchvision.transforms import Compose, RandomCrop, ToTensor, ToPILImage, CenterCrop, Resize\n",
    "import matplotlib.pyplot as plt\n",
    "\n",
    "cuda = torch.cuda.is_available()\n",
    "device = torch.device(\"cuda\" if cuda else \"cpu\")"
   ]
  },
  {
   "cell_type": "code",
   "execution_count": 3,
   "metadata": {
    "id": "wm5WLUyieRR4"
   },
   "outputs": [],
   "source": [
    "\n",
    "def is_image(filename):\n",
    "  return any(filename.endswith(extension) for extension in ['png'])\n",
    "\n",
    "\n",
    "class TrainDataset(object):\n",
    "    def __init__(self,lrimagefolder,hrimagefolder,transform=None,should_invert=False, test = False):\n",
    "        super(TrainDataset,self).__init__()\n",
    "        \n",
    "        self.hrimagefolder = hrimagefolder\n",
    "        self.lrimagefolder = lrimagefolder  \n",
    "        if transform:\n",
    "          self.transformhr = transform[0]\n",
    "          self.transformlr = transform[1]\n",
    "        else:\n",
    "          self.transformhr = None\n",
    "          self.transformlr = None\n",
    "        self.should_invert = should_invert\n",
    "        self.hrdir = sorted(listdir(hrimagefolder))\n",
    "        self.lrdir = sorted(listdir(lrimagefolder))\n",
    "\n",
    "\n",
    "        self.test = test\n",
    "\n",
    "\n",
    "    def __getitem__(self,index):\n",
    "\n",
    "        dirnamehr =  self.hrimagefolder + '/' + self.hrdir[index]\n",
    "        dirnamelr =  self.lrimagefolder + '/' + self.lrdir[index]\n",
    "\n",
    "\n",
    "        imghr = Image.open(dirnamehr)\n",
    "        imglr = Image.open(dirnamelr)\n",
    "\n",
    "\n",
    "        if self.transformhr is not None:\n",
    "\n",
    "          imghr = self.transformhr(imghr)\n",
    "          imglr = self.transformlr(imglr)\n",
    "\n",
    "        p = np.random.random()\n",
    "\n",
    "        if p > 0.5:\n",
    "            imglr = torchvision.transforms.functional.hflip(imglr)\n",
    "            imghr = torchvision.transforms.functional.hflip(imghr)\n",
    "\n",
    "        # Randomly change the brightness, contrast, saturation and hue of an image.\n",
    "        imglr = torchvision.transforms.functional.adjust_brightness(imglr, brightness_factor=p)\n",
    "        imglr= torchvision.transforms.functional.adjust_contrast(imglr, contrast_factor=p)\n",
    "\n",
    "        imghr = torchvision.transforms.functional.adjust_brightness(imghr, brightness_factor=p)\n",
    "        imghr = torchvision.transforms.functional.adjust_contrast(imghr, contrast_factor=p)\n",
    "\n",
    "       \n",
    "        imghr = transforms.ToTensor()(imghr)\n",
    "        imglr = transforms.ToTensor()(imglr)\n",
    "\n",
    "      \n",
    "        if self.test == False:\n",
    "          return imghr, imglr\n",
    "    \n",
    "        \n",
    "    \n",
    "    def __len__(self):\n",
    "        return len(self.hrdir)"
   ]
  },
  {
   "cell_type": "code",
   "execution_count": 4,
   "metadata": {
    "id": "zEJG_Ep3oVpn"
   },
   "outputs": [],
   "source": [
    "import torchvision\n",
    "crop_size = 800\n",
    "upscale_factor = 4\n",
    "t = [torchvision.transforms.Compose([transforms.CenterCrop(800),]),torchvision.transforms.Compose([transforms.CenterCrop(200),])]\n",
    "\n",
    "lrimagefolder = 'DIV2K_train_LR_bicubic/X4'\n",
    "hrimagefolder = 'DIV2K_train_HR'\n",
    "train_dataset = TrainDataset(lrimagefolder, hrimagefolder, transform=t)\n",
    "train_dataloader = torch.utils.data.DataLoader(train_dataset, shuffle = True, num_workers = 0, batch_size = 4)\n",
    "lrimagefolder = 'DIV2K_valid_LR_bicubic/X4'\n",
    "hrimagefolder = 'DIV2K_valid_HR'\n",
    "t = [torchvision.transforms.Compose([transforms.CenterCrop(600),]),torchvision.transforms.Compose([transforms.CenterCrop(150),])]\n",
    "\n",
    "valid_dataset = TrainDataset(lrimagefolder, hrimagefolder, transform=t)\n",
    "valid_dataloader = torch.utils.data.DataLoader(valid_dataset, shuffle = False, num_workers = 0, batch_size = 1)\n"
   ]
  },
  {
   "cell_type": "code",
   "execution_count": 5,
   "metadata": {
    "colab": {
     "base_uri": "https://localhost:8080/",
     "height": 320
    },
    "id": "cn86vGIeqjql",
    "outputId": "1457d494-6c47-468b-9abc-be36ecbc7c7c"
   },
   "outputs": [
    {
     "name": "stdout",
     "output_type": "stream",
     "text": [
      "torch.Size([1, 3, 600, 600]) torch.Size([1, 3, 150, 150])\n",
      "torch.Size([1, 3, 150, 150])\n",
      "torch.Size([1, 3, 600, 600]) torch.Size([1, 150, 3, 150])\n"
     ]
    },
    {
     "data": {
      "image/png": "[encoded data removed]",
      "text/plain": [
       "<Figure size 432x288 with 1 Axes>"
      ]
     },
     "metadata": {
      "needs_background": "light",
      "tags": []
     },
     "output_type": "display_data"
    }
   ],
   "source": [
    "\n",
    "for a, b in valid_dataloader:\n",
    "  print(a.shape, b.shape)\n",
    "  _,w,h,_ = b.shape\n",
    "  trans = torchvision.transforms.Compose([Resize((w,h)),]) \n",
    "  transa = a\n",
    "\n",
    "  plt.imshow(a[0].permute(1, 2, 0))\n",
    "  #plt.imshow(b[0])\n",
    "  print(b.shape)\n",
    "  print(a.shape, b.permute(0,3,1,2).shape)\n",
    "\n",
    "  del a\n",
    "  del b\n",
    "  break"
   ]
  },
  {
   "cell_type": "markdown",
   "metadata": {
    "id": "FKREUtghvlb0"
   },
   "source": [
    "# model"
   ]
  },
  {
   "cell_type": "code",
   "execution_count": 6,
   "metadata": {
    "id": "ieX06midp8zV"
   },
   "outputs": [],
   "source": [
    "#residual block\n",
    "class ResidualBlock(torch.nn.Module):\n",
    "    def __init__(self, in_channels, out_channels ,stride=1, downsample = False):\n",
    "        super(ResidualBlock, self).__init__()\n",
    "        self.downsample = downsample\n",
    "        self.expansion = 1\n",
    "        self.conv1 = nn.Conv2d(in_channels, out_channels,kernel_size = 1,stride = 1, padding = 0)\n",
    "        self.bn1 = nn.BatchNorm2d(out_channels)\n",
    "        self.relu = nn.PReLU()\n",
    "        self.conv2 = nn.Conv2d(out_channels,out_channels,kernel_size = 3,stride = stride, padding = 1)\n",
    "        self.bn2 = nn.BatchNorm2d(out_channels)\n",
    "        \n",
    "        \n",
    "        self.shortcut = nn.Sequential()\n",
    "        if downsample == False:\n",
    "            self.shortcut = nn.Identity()\n",
    "        else:\n",
    "            self.shortcut = nn.Conv2d(in_channels,out_channels, kernel_size=1, stride=stride)\n",
    "            self.bn3 = nn.BatchNorm2d(out_channels)\n",
    "    \n",
    "    def forward(self, x):\n",
    "      \n",
    "        out = self.conv1(x)\n",
    "        out = self.bn1(out)\n",
    "        out = self.relu(out)\n",
    "        out = self.conv2(out)\n",
    "        out = self.bn2(out)\n",
    "        \n",
    "        if self.downsample == True:\n",
    "          shortcut = self.bn3(self.shortcut(x))\n",
    "        else:\n",
    "          shortcut = self.shortcut(x)\n",
    "\n",
    "        out = self.relu(out + shortcut)\n",
    "        return out"
   ]
  },
  {
   "cell_type": "code",
   "execution_count": 7,
   "metadata": {
    "id": "GkK0yuHk6czK"
   },
   "outputs": [],
   "source": [
    "class upsampleblock(torch.nn.Module):\n",
    "  def __init__(self, in_channel, scale = 2):\n",
    "    super(upsampleblock, self).__init__()\n",
    "    self.conv = nn.Conv2d(in_channel, in_channel *scale * 2, kernel_size = 3, stride = 1, padding = 1)\n",
    "    self.pixel_shuffle = nn.PixelShuffle(upscale_factor = scale)\n",
    "    self.prelu = nn.PReLU()\n",
    "  \n",
    "  def forward(self, x):\n",
    "    x = self.conv(x)\n",
    "    x = self.pixel_shuffle(x)\n",
    "    x = self.prelu(x)\n",
    "    return x"
   ]
  },
  {
   "cell_type": "code",
   "execution_count": 8,
   "metadata": {
    "id": "Eh3CfZZWwXNY"
   },
   "outputs": [],
   "source": [
    "import math\n",
    "import torch.nn as nn\n",
    "\n",
    "class Generator(torch.nn.Module):\n",
    "  def __init__(self, scale_factor=4, numblock = 8):\n",
    "    super(Generator,self).__init__()\n",
    "    upsample_num = 2 #int(math.log(scale_factor, 2))\n",
    "\n",
    "    self.block1 = nn.Sequential(nn.Conv2d(3,64,kernel_size = 9, stride = 1,padding = 4),  \n",
    "                                nn.PReLU(),)\n",
    "\n",
    "    resblock = []\n",
    "    for _ in range(numblock):\n",
    "      resblock.append(ResidualBlock(64,64, stride = 1, downsample = True))\n",
    "    self.resblock = nn.Sequential(*resblock)\n",
    "\n",
    "    self.block3 = nn.Sequential(nn.Conv2d(64,64,kernel_size = 3, padding = 1),\n",
    "                                nn.BatchNorm2d(64),) \n",
    "\n",
    "    upblock = []\n",
    "    for _ in range(upsample_num):\n",
    "      upblock.append(upsampleblock(64))\n",
    "    upblock.append(nn.Conv2d(64,3,kernel_size = 9, padding = 4)) \n",
    "    self.upblock = nn.Sequential(*upblock)\n",
    "\n",
    "  def forward(self,x):\n",
    "\n",
    "    x = self.block1(x)\n",
    "    xb4 = x.clone()\n",
    "\n",
    "    x = self.resblock(x)\n",
    "    x = self.block3(x)\n",
    "\n",
    "    x = torch.nn.functional.relu(x + xb4)\n",
    "\n",
    "    x = self.upblock(x)\n",
    "    return torch.tanh(x)\n",
    "\n"
   ]
  },
  {
   "cell_type": "code",
   "execution_count": 9,
   "metadata": {
    "id": "R3zLl-Yl9yPc"
   },
   "outputs": [],
   "source": [
    "class Discriminator(torch.nn.Module):\n",
    "  def __init__(self):\n",
    "    super().__init__()\n",
    "    block_channel = [64, 128, 256, 512]#original: 64, 128, 256, 512\n",
    "\n",
    "    longblock = []\n",
    "    inchannel = 3\n",
    "    out = 64\n",
    "    for b in range(len(block_channel)):\n",
    "      out = block_channel[b]\n",
    "      if b == 0:\n",
    "        longblock.append(nn.Conv2d(inchannel,out, kernel_size = 3, stride = 1, padding = 1))\n",
    "        longblock.append(nn.LeakyReLU(0.2))\n",
    "      else:\n",
    "        longblock.append(nn.Conv2d(inchannel,out, kernel_size = 3, stride = 1, padding = 1))\n",
    "        longblock.append(nn.BatchNorm2d(out))\n",
    "        longblock.append(nn.LeakyReLU(0.2))\n",
    "      inchannel = out\n",
    "      longblock.append(nn.Conv2d(inchannel,out, kernel_size = 3, stride = 2, padding = 1))\n",
    "      longblock.append(nn.BatchNorm2d(out))\n",
    "      longblock.append(nn.LeakyReLU(0.2))\n",
    "    \n",
    "    self.longblock = nn.Sequential(*longblock)\n",
    "    \n",
    "    self.classifier = nn.Sequential(\n",
    "        nn.AdaptiveAvgPool2d(1),\n",
    "        nn.Conv2d(512, 1024, kernel_size=1),\n",
    "        nn.LeakyReLU(0.2),\n",
    "        nn.Conv2d(1024,1, kernel_size = 1) \n",
    "    )\n",
    "\n",
    "  def forward(self,x):\n",
    "\n",
    "    x = self.longblock(x)\n",
    "    x = self.classifier(x)\n",
    "    x = x.flatten(start_dim = 1)\n",
    "    return torch.sigmoid(x)\n"
   ]
  },
  {
   "cell_type": "markdown",
   "metadata": {
    "id": "8WVnYB2KKnYm"
   },
   "source": [
    "# training"
   ]
  },
  {
   "cell_type": "code",
   "execution_count": null,
   "metadata": {
    "id": "lEEALmu1SHX_"
   },
   "outputs": [],
   "source": [
    "from torch import nn\n",
    "from torchvision.models.vgg import vgg19"
   ]
  },
  {
   "cell_type": "code",
   "execution_count": 10,
   "metadata": {
    "id": "eCDDHgn0SOiL"
   },
   "outputs": [],
   "source": [
    "\n",
    "class GeneratorLoss(nn.Module):\n",
    "    def __init__(self, before_act = True):\n",
    "        super(GeneratorLoss, self).__init__()\n",
    "        vgg = vgg19(pretrained=True)\n",
    "        vggloss= nn.Sequential(*list(vgg.features)[:7]).eval()  \n",
    "        for param in vggloss.parameters():\n",
    "            param.requires_grad = False\n",
    "        self.vggloss = vggloss.to(device)\n",
    "\n",
    "        self.mse_loss = nn.MSELoss().to(device)\n",
    "\n",
    "    def forward(self, out_labels, out_images, target_images):\n",
    "        # Adversarial Loss\n",
    "        adversarial_loss = torch.mean(1 - out_labels)\n",
    "\n",
    "        # Perception Loss\n",
    "        vgg_loss = self.mse_loss(self.vggloss(out_images), self.vggloss(target_images))\n",
    "\n",
    "        # Image Loss\n",
    "        image_loss = self.mse_loss(out_images, target_images)\n",
    "\n",
    "        return image_loss + 0.001*adversarial_loss + 0.006*vgg_loss\n",
    "        "
   ]
  },
  {
   "cell_type": "code",
   "execution_count": 11,
   "metadata": {
    "id": "7-pGAP0KTGPa"
   },
   "outputs": [],
   "source": [
    "\n",
    "def training(epoch, G_optimizer, D_optimizer, lr,netG, netD, train_dataloader):\n",
    "  gloss = 0\n",
    "  dloss = 0\n",
    "  dscore = 0\n",
    "  gscore = 0\n",
    "\n",
    "  netG.train()\n",
    "  netD.train()\n",
    "  \n",
    "  for imagehr, imagelr in train_dataloader:\n",
    "\n",
    "    g_update = True\n",
    "    batch_size = imagelr.size(0)\n",
    "\n",
    "    ##########################################discriminator##############################################\n",
    "    imagehr = Variable(imagehr).to(device)\n",
    "    imagelr = Variable(imagelr).to(device)   \n",
    "   \n",
    "    torch.cuda.empty_cache()\n",
    "\n",
    "    D_optimizer.zero_grad()\n",
    "\n",
    "    real_label = torch.full(size=(len(imagehr),), fill_value=0.99, dtype=torch.float, device=device)\n",
    "    realout = netD(imagehr).view(-1)\n",
    "\n",
    "    err_D_real = dcriterion(realout, real_label)\n",
    "    err_D_real.backward()\n",
    "\n",
    "    fake_label = torch.full(size=(len(imagehr),), fill_value=0, dtype=torch.float, device=device)\n",
    "    fakeimg = netG(imagelr)\n",
    "    \n",
    "    fakeout = netD(fakeimg.detach()).view(-1)\n",
    "    err_D_fake = dcriterion(fakeout, fake_label)\n",
    "    err_D_fake.backward()\n",
    "\n",
    "    D_optimizer.step()\n",
    "    \n",
    "    dloss += err_D_fake.item() + err_D_real.item()\n",
    "    \n",
    "    \n",
    "    del realout\n",
    "    del real_label\n",
    "    del err_D_real\n",
    "  \n",
    "    del fakeout\n",
    "    \n",
    "    #############################################generator#####################################################\n",
    "  \n",
    "    torch.cuda.empty_cache()\n",
    "    G_optimizer.zero_grad()\n",
    "\n",
    "    # criterion\n",
    "    fakeout = netD(fakeimg)\n",
    "    g_loss = gcriterion(fakeout, fakeimg, imagehr)\n",
    "    \n",
    "\n",
    "    gloss += g_loss.item()\n",
    "    g_loss.backward(retain_graph=True)\n",
    "    G_optimizer.step()\n",
    "\n",
    "    del imagehr\n",
    "    del fakeout\n",
    "    del fakeimg\n",
    "    del g_loss\n",
    "    \n",
    "  \n",
    "  print('epoch',epoch,'gloss: ', gloss, ' dloss:', dloss)\n",
    "\n",
    "\n",
    "import numpy as np\n",
    "import cv2\n",
    "from math import log10\n",
    "\n",
    "def val(netG, netD, valid_dataloader=None):\n",
    "  netG.eval()\n",
    "  netD.eval()\n",
    "\n",
    "  psnr_total = []\n",
    "  ssim_total = []\n",
    "\n",
    "  with torch.no_grad():\n",
    "    for imagehr, imagelr in valid_dataloader:\n",
    " \n",
    "\n",
    "      imagehr = Variable(imagehr).to(device)\n",
    "      imagelr = Variable(imagelr).to(device)   \n",
    "      fakeimg = netG(imagelr)\n",
    " \n",
    "      s = ssim(imagehr, fakeimg)\n",
    "      ssim_total.append(s.item())\n",
    "\n",
    "      p =  ((imagehr - fakeimg) ** 2).data.mean()\n",
    "      psnr = 10 * log10(1 / p)\n",
    "      psnr_total.append(psnr)\n",
    "\n",
    "      del imagehr\n",
    "      del imagelr\n",
    "      del fakeimg\n",
    "      torch.cuda.empty_cache()\n",
    "\n",
    "    print('psnr: ',np.mean(psnr_total), 'ssim: ',np.mean(ssim_total))\n",
    "    scheduler.step(np.mean(ssim_total))\n",
    "    return np.mean(psnr_total)\n",
    "   "
   ]
  },
  {
   "cell_type": "markdown",
   "metadata": {
    "id": "gnBnskrj3n4W"
   },
   "source": [
    "# Tuning"
   ]
  },
  {
   "cell_type": "code",
   "execution_count": null,
   "metadata": {
    "id": "FukrqNSfLU3T"
   },
   "outputs": [],
   "source": [
    "#This part is the source code \n",
    "from math import exp\n",
    "import torch\n",
    "import torch.nn.functional \n",
    "from torch.autograd import Variable\n",
    "\n",
    "\n",
    "\n",
    "def gaussian(window_size, sigma):\n",
    "    gauss = torch.Tensor([exp(-(x - window_size // 2) ** 2 / float(2 * sigma ** 2)) for x in range(window_size)])\n",
    "    return gauss / gauss.sum()\n",
    "\n",
    "\n",
    "def create_window(window_size, channel):\n",
    "    _1D_window = gaussian(window_size, 1.5).unsqueeze(1)\n",
    "    _2D_window = _1D_window.mm(_1D_window.t()).float().unsqueeze(0).unsqueeze(0)\n",
    "    window = Variable(_2D_window.expand(channel, 1, window_size, window_size).contiguous())\n",
    "    return window\n",
    "\n",
    "\n",
    "def _ssim(img1, img2, window, window_size, channel, size_average=True):\n",
    "    mu1 = torch.nn.functional.conv2d(img1, window, padding=window_size // 2, groups=channel)\n",
    "    mu2 = torch.nn.functional.conv2d(img2, window, padding=window_size // 2, groups=channel)\n",
    "\n",
    "    mu1_sq = mu1.pow(2)\n",
    "    mu2_sq = mu2.pow(2)\n",
    "    mu1_mu2 = mu1 * mu2\n",
    "\n",
    "    sigma1_sq = torch.nn.functional.conv2d(img1 * img1, window, padding=window_size // 2, groups=channel) - mu1_sq\n",
    "    sigma2_sq = torch.nn.functional.conv2d(img2 * img2, window, padding=window_size // 2, groups=channel) - mu2_sq\n",
    "    sigma12 = torch.nn.functional.conv2d(img1 * img2, window, padding=window_size // 2, groups=channel) - mu1_mu2\n",
    "\n",
    "    C1 = 0.01 ** 2\n",
    "    C2 = 0.03 ** 2\n",
    "\n",
    "    ssim_map = ((2 * mu1_mu2 + C1) * (2 * sigma12 + C2)) / ((mu1_sq + mu2_sq + C1) * (sigma1_sq + sigma2_sq + C2))\n",
    "\n",
    "    if size_average:\n",
    "        return ssim_map.mean()\n",
    "    else:\n",
    "        return ssim_map.mean(1).mean(1).mean(1)\n",
    "\n",
    "\n",
    "class SSIM(torch.nn.Module):\n",
    "    def __init__(self, window_size=11, size_average=True):\n",
    "        super(SSIM, self).__init__()\n",
    "        self.window_size = window_size\n",
    "        self.size_average = size_average\n",
    "        self.channel = 1\n",
    "        self.window = create_window(window_size, self.channel)\n",
    "\n",
    "    def forward(self, img1, img2):\n",
    "        (_, channel, _, _) = img1.size()\n",
    "\n",
    "        if channel == self.channel and self.window.data.type() == img1.data.type():\n",
    "            window = self.window\n",
    "        else:\n",
    "            window = create_window(self.window_size, channel)\n",
    "\n",
    "            if img1.is_cuda:\n",
    "                window = window.cuda(img1.get_device())\n",
    "            window = window.type_as(img1)\n",
    "\n",
    "            self.window = window\n",
    "            self.channel = channel\n",
    "\n",
    "        return _ssim(img1, img2, window, self.window_size, channel, self.size_average)\n",
    "\n",
    "\n",
    "def ssim(img1, img2, window_size=11, size_average=True):\n",
    "    (_, channel, _, _) = img1.size()\n",
    "    window = create_window(window_size, channel)\n",
    "\n",
    "    if img1.is_cuda:\n",
    "        window = window.cuda(img1.get_device())\n",
    "    window = window.type_as(img1)\n",
    "\n",
    "    return _ssim(img1, img2, window, window_size, channel, size_average)"
   ]
  },
  {
   "cell_type": "code",
   "execution_count": null,
   "metadata": {
    "colab": {
     "base_uri": "https://localhost:8080/"
    },
    "id": "VDUe9SKZs8iy",
    "outputId": "ae2b392a-1535-4c30-c777-033902c0795b"
   },
   "outputs": [
    {
     "name": "stdout",
     "output_type": "stream",
     "text": [
      "epoch 0 gloss:  4.566109411884099  dloss: 276.33078268170357\n",
      "psnr:  17.614635311448634 ssim:  0.49636036485433577\n",
      "epoch 1 gloss:  2.4099079980514944  dloss: 273.516650646925\n",
      "psnr:  20.712885185722808 ssim:  0.5521586143970489\n",
      "saving model...\n",
      "epoch 2 gloss:  2.070616468321532  dloss: 174.7973272795789\n",
      "psnr:  20.990605651377358 ssim:  0.5740824282169342\n",
      "saving model...\n",
      "epoch 3 gloss:  1.9558800868690014  dloss: 145.7227777086664\n",
      "psnr:  21.396010912075226 ssim:  0.570060627758503\n",
      "saving model...\n",
      "epoch 4 gloss:  1.891855536494404  dloss: 106.77803820034023\n",
      "psnr:  20.82166049548648 ssim:  0.5823910257220268\n",
      "epoch 5 gloss:  1.847430219873786  dloss: 63.20088540823781\n",
      "psnr:  21.4248987931644 ssim:  0.587917346060276\n",
      "saving model...\n",
      "epoch 6 gloss:  1.8199758306145668  dloss: 38.2145742884386\n",
      "psnr:  20.94803119740163 ssim:  0.5599519976973534\n",
      "epoch 7 gloss:  1.793636623537168  dloss: 37.56522937569389\n",
      "psnr:  20.43542966825958 ssim:  0.5602932718396186\n",
      "epoch 8 gloss:  1.7581041692756116  dloss: 52.052952786634705\n",
      "psnr:  20.35101612697444 ssim:  0.5560526742041111\n",
      "epoch 9 gloss:  1.7523764902725816  dloss: 21.8004109943372\n",
      "psnr:  22.113233324310357 ssim:  0.6001309198141098\n",
      "saving model...\n",
      "epoch 10 gloss:  1.7290127836167812  dloss: 11.645677553682503\n",
      "psnr:  21.48288002349684 ssim:  0.576302350461483\n",
      "epoch 11 gloss:  1.711720156017691  dloss: 11.904821604397284\n",
      "psnr:  21.357964312509484 ssim:  0.5775034528970718\n",
      "epoch 12 gloss:  1.6969148432835937  dloss: 14.393197888749114\n",
      "psnr:  21.43434766340891 ssim:  0.5669090479612351\n",
      "epoch 13 gloss:  1.6842912691645324  dloss: 13.791390393625264\n",
      "psnr:  21.802092857537936 ssim:  0.5902817371487618\n",
      "epoch 14 gloss:  1.6784906324464828  dloss: 11.277548016690027\n",
      "psnr:  21.233215522729374 ssim:  0.5704718180000782\n",
      "epoch 15 gloss:  1.6635893820784986  dloss: 34.46796192517739\n",
      "psnr:  18.955368480407866 ssim:  0.5457509341835975\n",
      "epoch 16 gloss:  1.6696447771973908  dloss: 11.448551327648914\n",
      "psnr:  21.590126264271866 ssim:  0.5861802694201469\n",
      "epoch 17 gloss:  1.6601051497273147  dloss: 11.244781984550805\n",
      "psnr:  22.094127448631834 ssim:  0.5994472727179527\n",
      "epoch 18 gloss:  1.6530276315752417  dloss: 11.239287893805532\n",
      "psnr:  21.926269809413185 ssim:  0.5965022134780884\n",
      "epoch 19 gloss:  1.645597998984158  dloss: 11.225155151145117\n",
      "psnr:  21.923736604871998 ssim:  0.6018513414263725\n",
      "epoch 20 gloss:  1.639751632930711  dloss: 11.219743792633231\n",
      "psnr:  19.328635829721815 ssim:  0.5633000168204307\n",
      "epoch 21 gloss:  1.633914657169953  dloss: 11.243732307144143\n",
      "psnr:  20.370366868517635 ssim:  0.5648266047239303\n",
      "epoch 22 gloss:  1.6209503610152751  dloss: 11.262783207923693\n",
      "psnr:  22.127523502408607 ssim:  0.6026024454832077\n",
      "saving model...\n",
      "epoch 23 gloss:  1.6172660931479186  dloss: 11.212633423296097\n",
      "psnr:  20.87712586377854 ssim:  0.5564530263841152\n",
      "epoch 24 gloss:  1.6192472917027771  dloss: 11.214959505255916\n",
      "psnr:  21.518056062379177 ssim:  0.578567927479744\n",
      "epoch 25 gloss:  1.6137517287861556  dloss: 11.225830627673805\n",
      "psnr:  21.007683909965298 ssim:  0.5697646771371364\n",
      "epoch 26 gloss:  1.610597760649398  dloss: 11.209470338358258\n",
      "psnr:  22.367044664995223 ssim:  0.6110388791561127\n",
      "saving model...\n",
      "epoch 27 gloss:  1.6110875052399933  dloss: 11.207932494988519\n",
      "psnr:  20.948769669050183 ssim:  0.5716845405101776\n",
      "epoch 28 gloss:  1.6017965790815651  dloss: 11.205677382707929\n",
      "psnr:  21.909759456213898 ssim:  0.5926930904388428\n",
      "epoch 29 gloss:  1.6061227121390402  dloss: 11.533743671400142\n",
      "psnr:  21.07499281977096 ssim:  0.5699530598521233\n"
     ]
    }
   ],
   "source": [
    "from torch.autograd import Variable\n",
    "import torch.optim as optim\n",
    "\n",
    "\n",
    "netG = Generator()\n",
    "netD = Discriminator()\n",
    "netG.to(device)\n",
    "netD.to(device)\n",
    "\n",
    "lr = 0.0003\n",
    "epochs = 30\n",
    "best_val = 20\n",
    "\n",
    "\n",
    "gcriterion = GeneratorLoss()\n",
    "dcriterion = torch.nn.BCELoss()\n",
    "\n",
    "G_optimizer = optim.Adam(netG.parameters(), lr = lr, betas = (0.5, 0.9))\n",
    "D_optimizer = optim.Adam(netD.parameters(), lr = lr, betas = (0.5, 0.9))\n",
    "scheduler =torch.optim.lr_scheduler.ReduceLROnPlateau(D_optimizer, 'min', 0.75,2)\n",
    "\n",
    "for epoch in range(epochs):\n",
    "  training(epoch, G_optimizer, D_optimizer, lr,netG, netD, train_dataloader)\n",
    "  curval = val(netG, netD, valid_dataloader)\n",
    "  if curval > best_val:\n",
    "    torch.save(netG,'netg_report')\n",
    "    torch.save(netD,'netd_report')\n",
    "    print('saving model...')\n",
    "    best_val = curval\n",
    "\n"
   ]
  },
  {
   "cell_type": "code",
   "execution_count": null,
   "metadata": {
    "id": "FBAQtEOcoAK9"
   },
   "outputs": [],
   "source": [
    "torch.save(netG,'netg_report3')\n",
    "torch.save(netD,'netd_report3')"
   ]
  },
  {
   "cell_type": "markdown",
   "metadata": {
    "id": "8UQpw61b77Vf"
   },
   "source": [
    "#test"
   ]
  },
  {
   "cell_type": "code",
   "execution_count": null,
   "metadata": {
    "id": "F2zp08Nl2HXU"
   },
   "outputs": [],
   "source": [
    "\n",
    "  #del train_dataloader\n",
    "  #del valid_dataloader\n",
    "#netG = torch.load('netg_SRGAN')\n",
    "#netD = torch.load('netd_SRGAN')\n",
    "netG = netG.to(device)\n",
    "netD = netD.to(device)"
   ]
  },
  {
   "cell_type": "code",
   "execution_count": null,
   "metadata": {
    "id": "x-4TsuEHli-s"
   },
   "outputs": [],
   "source": [
    "class TestDataset(object):\n",
    "    def __init__(self,lrimagefolder,transform=None,should_invert=False, test = False):\n",
    "        super(TestDataset,self).__init__()\n",
    "      \n",
    "        self.lrimagefolder = lrimagefolder  \n",
    "        if transform:\n",
    "          self.transformlr = transform[0]\n",
    "        else:\n",
    "          self.transformlr = None\n",
    "        self.should_invert = should_invert\n",
    "        self.lrdir = sorted(listdir(lrimagefolder))\n",
    "        \n",
    "  \n",
    "\n",
    "        self.test = test\n",
    "\n",
    "\n",
    "    def __getitem__(self,index):\n",
    "\n",
    "        dirnamelr =  self.lrimagefolder + '/' + self.lrdir[index]\n",
    "\n",
    "        imglr = Image.open(dirnamelr)\n",
    "        \n",
    "        origisize = transforms.ToTensor()(imglr)\n",
    "        print(origisize.shape)\n",
    "\n",
    "\n",
    "        if self.transformlr is not None:\n",
    "\n",
    "          imglr = self.transformlr(imglr)\n",
    "        imglr = transforms.ToTensor()(imglr)\n",
    "\n",
    "        return imglr, dirnamelr, origisize.shape[1]*4, origisize.shape[2]*4\n",
    "    \n",
    "        \n",
    "    \n",
    "    def __len__(self):\n",
    "        return len(self.lrdir)"
   ]
  },
  {
   "cell_type": "code",
   "execution_count": null,
   "metadata": {
    "colab": {
     "base_uri": "https://localhost:8080/",
     "height": 646
    },
    "id": "1hmll4idli-t",
    "outputId": "7f312259-b641-4a5e-b398-9674ddb0d6c0"
   },
   "outputs": [
    {
     "name": "stderr",
     "output_type": "stream",
     "text": [
      "/usr/local/lib/python3.7/dist-packages/torchvision/transforms/transforms.py:258: UserWarning: Argument interpolation should be of type InterpolationMode instead of int. Please, use InterpolationMode enum.\n",
      "  \"Argument interpolation should be of type InterpolationMode instead of int. \"\n"
     ]
    },
    {
     "name": "stdout",
     "output_type": "stream",
     "text": [
      "torch.Size([3, 121, 81])\n",
      "torch.Size([3, 121, 81])\n",
      "torch.Size([3, 121, 81])\n",
      "torch.Size([3, 81, 121])\n",
      "torch.Size([3, 81, 121])\n",
      "torch.Size([3, 81, 121])\n",
      "torch.Size([3, 81, 121])\n",
      "torch.Size([3, 81, 121])\n",
      "torch.Size([3, 81, 121])\n",
      "torch.Size([3, 81, 121])\n",
      "torch.Size([3, 81, 121])\n",
      "torch.Size([3, 81, 121])\n",
      "torch.Size([3, 81, 121])\n",
      "torch.Size([3, 81, 121])\n",
      "torch.Size([3, 81, 121])\n",
      "torch.Size([3, 81, 121])\n",
      "torch.Size([3, 81, 121])\n",
      "torch.Size([3, 81, 121])\n",
      "torch.Size([3, 81, 121])\n",
      "torch.Size([3, 81, 121])\n",
      "torch.Size([3, 121, 81])\n"
     ]
    },
    {
     "ename": "KeyboardInterrupt",
     "evalue": "ignored",
     "output_type": "error",
     "traceback": [
      "\u001b[0;31m---------------------------------------------------------------------------\u001b[0m",
      "\u001b[0;31mKeyboardInterrupt\u001b[0m                         Traceback (most recent call last)",
      "\u001b[0;32m<ipython-input-84-80c85d58fba0>\u001b[0m in \u001b[0;36m<module>\u001b[0;34m()\u001b[0m\n\u001b[1;32m     16\u001b[0m \u001b[0;34m\u001b[0m\u001b[0m\n\u001b[1;32m     17\u001b[0m     \u001b[0mfakeimg\u001b[0m \u001b[0;34m=\u001b[0m \u001b[0mnetG\u001b[0m\u001b[0;34m(\u001b[0m\u001b[0mimagelr\u001b[0m\u001b[0;34m)\u001b[0m\u001b[0;34m\u001b[0m\u001b[0;34m\u001b[0m\u001b[0m\n\u001b[0;32m---> 18\u001b[0;31m     \u001b[0mfakeimg\u001b[0m \u001b[0;34m=\u001b[0m \u001b[0mfakeimg\u001b[0m\u001b[0;34m.\u001b[0m\u001b[0mcpu\u001b[0m\u001b[0;34m(\u001b[0m\u001b[0;34m)\u001b[0m\u001b[0;34m\u001b[0m\u001b[0;34m\u001b[0m\u001b[0m\n\u001b[0m\u001b[1;32m     19\u001b[0m     \u001b[0mfname\u001b[0m \u001b[0;34m=\u001b[0m \u001b[0;34m'test_out/'\u001b[0m \u001b[0;34m+\u001b[0m \u001b[0mdirnamelr\u001b[0m\u001b[0;34m[\u001b[0m\u001b[0;36m0\u001b[0m\u001b[0;34m]\u001b[0m\u001b[0;34m\u001b[0m\u001b[0;34m\u001b[0m\u001b[0m\n\u001b[1;32m     20\u001b[0m     \u001b[0mimgt\u001b[0m \u001b[0;34m=\u001b[0m \u001b[0mtorchvision\u001b[0m\u001b[0;34m.\u001b[0m\u001b[0mtransforms\u001b[0m\u001b[0;34m.\u001b[0m\u001b[0mCompose\u001b[0m\u001b[0;34m(\u001b[0m\u001b[0;34m[\u001b[0m\u001b[0mResize\u001b[0m\u001b[0;34m(\u001b[0m\u001b[0;34m(\u001b[0m\u001b[0mw\u001b[0m\u001b[0;34m,\u001b[0m\u001b[0mh\u001b[0m\u001b[0;34m)\u001b[0m\u001b[0;34m,\u001b[0m \u001b[0minterpolation\u001b[0m\u001b[0;34m=\u001b[0m\u001b[0mImage\u001b[0m\u001b[0;34m.\u001b[0m\u001b[0mBICUBIC\u001b[0m\u001b[0;34m)\u001b[0m\u001b[0;34m,\u001b[0m\u001b[0;34m]\u001b[0m\u001b[0;34m)\u001b[0m\u001b[0;34m\u001b[0m\u001b[0;34m\u001b[0m\u001b[0m\n",
      "\u001b[0;31mKeyboardInterrupt\u001b[0m: "
     ]
    }
   ],
   "source": [
    "\n",
    "lrimagefolder = ['large_test']#'comics','small_test','large_test', 'structures'\n",
    "#lrimagefolder = ['DIV2K_valid_LR_bicubic/X4/']\n",
    "#t = [torchvision.transforms.Compose([transforms.CenterCrop(400),]),torchvision.transforms.Compose([transforms.CenterCrop(100),])]\n",
    "t = [torchvision.transforms.Compose([Resize((200,200), interpolation=Image.BICUBIC),])]\n",
    "for folder in lrimagefolder:\n",
    "  test_dataset = TestDataset(folder,transform=t)\n",
    "  test_dataloader = torch.utils.data.DataLoader(test_dataset,shuffle = False, num_workers = 0, batch_size = 1)\n",
    "  \n",
    "  \n",
    "\n",
    "  for imagelr,dirnamelr, w, h in test_dataloader:\n",
    "    imagelr = imagelr.to(device)   \n",
    "    if imagelr.shape[1] == 1:\n",
    "      imagelr = torch.stack([imagelr, imagelr, imagelr],dim = 2).squeeze(0)\n",
    "    \n",
    "    fakeimg = netG(imagelr) \n",
    "    fakeimg = fakeimg.cpu()\n",
    "    fname = 'test_out/' + dirnamelr[0]\n",
    "\n",
    "    \n",
    "   \n",
    "    save_image(fakeimg[0], fname)\n",
    "    del imagelr\n",
    "    del fakeimg\n",
    "    del dirnamelr\n",
    "  \n"
   ]
  }
 ],
 "metadata": {
  "accelerator": "GPU",
  "colab": {
   "machine_shape": "hm",
   "name": "hw5srgan.ipynb",
   "provenance": []
  },
  "kernelspec": {
   "display_name": "Python 3",
   "language": "python",
   "name": "python3"
  },
  "language_info": {
   "codemirror_mode": {
    "name": "ipython",
    "version": 3
   },
   "file_extension": ".py",
   "mimetype": "text/x-python",
   "name": "python",
   "nbconvert_exporter": "python",
   "pygments_lexer": "ipython3",
   "version": "3.8.5"
  }
 },
 "nbformat": 4,
 "nbformat_minor": 1
}
